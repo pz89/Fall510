{
 "cells": [
  {
   "cell_type": "markdown",
   "metadata": {},
   "source": [
    "# Question 1: histogram()"
   ]
  },
  {
   "cell_type": "code",
   "execution_count": 90,
   "metadata": {
    "collapsed": false
   },
   "outputs": [
    {
     "name": "stdout",
     "output_type": "stream",
     "text": [
      "****\n",
      "*****\n",
      "*********\n"
     ]
    }
   ],
   "source": [
    "\"\"\"\n",
    "Define a procedure histogram ()that takes a list of integers and prints a histogram to the screen. \n",
    "\n",
    "\"\"\"\n",
    "def histogram(numberlist):    \n",
    "    \n",
    "    for i in range(len(numberlist)): \n",
    "        print (numberlist[i]*'*')\n",
    "        \n",
    "# Use the for loop to select each number within the input numberlist and use the multiplication symbol \"*\" to duplicate the reult i times, where i represents every input number within the numberlist. \n",
    "\n",
    "histogram([4,5,9])"
   ]
  },
  {
   "cell_type": "markdown",
   "metadata": {},
   "source": [
    "# Question 2: max_in_list()"
   ]
  },
  {
   "cell_type": "code",
   "execution_count": 91,
   "metadata": {
    "collapsed": false
   },
   "outputs": [
    {
     "data": {
      "text/plain": [
       "1002"
      ]
     },
     "execution_count": 91,
     "metadata": {},
     "output_type": "execute_result"
    }
   ],
   "source": [
    "\"\"\"\n",
    "Define a function max_in_list() that takes a list of numbers and returns the largest one.    \n",
    "\n",
    "\"\"\"\n",
    "def max_in_list(numberlist):  \n",
    "\n",
    "    max_number = numberlist[0]    \n",
    "# Initialize the first number as the largest number within the numberlist.    \n",
    "    for i in numberlist:          \n",
    "        if i > max_number: \n",
    "            max_number = i \n",
    "# Use the for loop to compare the second number with the first one. Find the larger number and replace the max_number into the new value and so on until all the numbers have been compared.\n",
    "    return max_number\n",
    "\n",
    "max_in_list([-1,2,1002,23,456,35])"
   ]
  },
  {
   "cell_type": "markdown",
   "metadata": {
    "collapsed": true
   },
   "source": [
    "# Question 3: map_list_words()"
   ]
  },
  {
   "cell_type": "code",
   "execution_count": 25,
   "metadata": {
    "collapsed": false
   },
   "outputs": [
    {
     "data": {
      "text/plain": [
       "[3, 1, 6]"
      ]
     },
     "execution_count": 25,
     "metadata": {},
     "output_type": "execute_result"
    }
   ],
   "source": [
    "\"\"\"\n",
    "Define a function map_list_words () that maps a list of words into a list of \n",
    "integers representing the lengths of the corresponding words.\n",
    "\n",
    "\"\"\"\n",
    "def map_list_words(words):\n",
    "\n",
    "    length=[]\n",
    "# Initilize the length to empty zero.\n",
    "    for i in words:          \n",
    "        length.append(len(i)) \n",
    "# Use the append command to append the passed objects into the list which are the number of characters.    \n",
    "    return length\n",
    "\n",
    "\n",
    "map_list_words(['sas','r','python'])"
   ]
  },
  {
   "cell_type": "markdown",
   "metadata": {},
   "source": [
    "# Question 4: find_longest_word()"
   ]
  },
  {
   "cell_type": "code",
   "execution_count": 92,
   "metadata": {
    "collapsed": false
   },
   "outputs": [
    {
     "data": {
      "text/plain": [
       "6"
      ]
     },
     "execution_count": 92,
     "metadata": {},
     "output_type": "execute_result"
    }
   ],
   "source": [
    "\"\"\"\n",
    "Define a function find_longest_word() that takes a list of words and returns the length of the longest one.   \n",
    "\n",
    "\"\"\"\n",
    "def map_list_words(words): \n",
    "    length = []    \n",
    "# Initilize the length to empty zero.\n",
    "    for i in words:\n",
    "        length.append(len(i)) \n",
    "# Use the append command to append the passed objects into the list which are the number of characters. \n",
    "    return length\n",
    "\n",
    "def find_longest_word(words):   \n",
    " \n",
    "    return max(map_list_words(words))   \n",
    "# Use the previous function and code. After representing all the lengths of the corresponding words, use the max command to find the longest one.\n",
    "\n",
    "find_longest_word(['sas','r','python'])"
   ]
  },
  {
   "cell_type": "markdown",
   "metadata": {},
   "source": [
    "# Question 5: filter_long_words()"
   ]
  },
  {
   "cell_type": "code",
   "execution_count": 93,
   "metadata": {
    "collapsed": false
   },
   "outputs": [
    {
     "name": "stdout",
     "output_type": "stream",
     "text": [
      "['sas', 'python']\n"
     ]
    }
   ],
   "source": [
    "\"\"\"\n",
    "Define a function filter_long_words() that takes a list of words and an integer n and \n",
    "returns the list of words that are longer than n. \n",
    "\n",
    "\"\"\"\n",
    "\n",
    "def filter_long_words(wordlist, n):\n",
    "\n",
    "    longword = []\n",
    "# Initalize the variable longword to a blank space.\n",
    "    for i in range(len(wordlist)):\n",
    "        if len(wordlist[i]) > n:\n",
    "            longword.append(wordlist[i])\n",
    "# Use the for loop to generate the length of each word with the inputs and compare them with input n; select all the words which length are greater than n.\n",
    "# Use the append command to append the passed objects into the list which are the number of characters.\n",
    "    print (longword)\n",
    "  \n",
    "\n",
    "filter_long_words(['sas','r','python'],2)"
   ]
  },
  {
   "cell_type": "markdown",
   "metadata": {},
   "source": [
    "# Question 6: pali_recognizer()"
   ]
  },
  {
   "cell_type": "code",
   "execution_count": 95,
   "metadata": {
    "collapsed": false
   },
   "outputs": [
    {
     "data": {
      "text/plain": [
       "True"
      ]
     },
     "execution_count": 95,
     "metadata": {},
     "output_type": "execute_result"
    }
   ],
   "source": [
    "\"\"\"\n",
    "Define a function pali_recognizer() to accept phrase palindromes \n",
    "that usually ignore punctuation, capitalization and spacing. \n",
    "\n",
    "\"\"\"\n",
    "\n",
    "def pali_recognizer(sentence):         \n",
    "    i=[q for q in sentence.lower() if q.isalpha()]  \n",
    "# To ignore the punctuation and spacing, using the isalpha() method to select only characters from the string.\n",
    "# To ignore the capitalization, use the lower() method to change all the capital characters into lowercase.\n",
    "    reverse=i[::-1] \n",
    "    if i==reverse:  \n",
    "# After excluding all these unique situations, assign a variable 'reverse' to reverse the sentence. Make a comparison between reverse and i. Return True if they are the same; otherwise return False. \n",
    "        return True\n",
    "    else:\n",
    "        return False\n",
    "    \n",
    "pali_recognizer('Was it a rat I saw?')"
   ]
  },
  {
   "cell_type": "code",
   "execution_count": 96,
   "metadata": {
    "collapsed": false
   },
   "outputs": [
    {
     "data": {
      "text/plain": [
       "False"
      ]
     },
     "execution_count": 96,
     "metadata": {},
     "output_type": "execute_result"
    }
   ],
   "source": [
    "pali_recognizer('I am a boy')"
   ]
  },
  {
   "cell_type": "code",
   "execution_count": 97,
   "metadata": {
    "collapsed": false
   },
   "outputs": [
    {
     "data": {
      "text/plain": [
       "True"
      ]
     },
     "execution_count": 97,
     "metadata": {},
     "output_type": "execute_result"
    }
   ],
   "source": [
    "pali_recognizer(\"Sit on a potato pan, Otis\")"
   ]
  },
  {
   "cell_type": "markdown",
   "metadata": {},
   "source": [
    "# Question 7: pangram()"
   ]
  },
  {
   "cell_type": "code",
   "execution_count": 99,
   "metadata": {
    "collapsed": false
   },
   "outputs": [
    {
     "data": {
      "text/plain": [
       "True"
      ]
     },
     "execution_count": 99,
     "metadata": {},
     "output_type": "execute_result"
    }
   ],
   "source": [
    "\"\"\"\n",
    "Define a function pangram () that recognize a sentence that contains all the letters of the English alphabet at least once. \n",
    "\n",
    "\"\"\"\n",
    "def pangram(sentence):        \n",
    "    x = 0      \n",
    "# Initialize x as zero.\n",
    "    alphabet = \"abcdefghijklmnopqrstuvwxyz\" \n",
    "# List all the 26 alphabet letters.\n",
    "    Letters = \"\"  \n",
    "# Initialize the Letters as the blank space.\n",
    "    for i in sentence:           \n",
    "# Use the first big for loop to determine whether each letter within the sentence is in the 26 alphabet letters. \n",
    "        for l in alphabet:\n",
    "            if i == l and i not in Letters :  \n",
    "# If so, add all the letters to the blank space Letters. Use and...not command to guarantee every added letter is not repeated.\n",
    "                Letters += i\n",
    "    for i in Letters:     \n",
    "# Use the second big or loop to count the number of letters within 'Letters'. Even though there might has more than 26 letters in the sentence, we only count each letter once.\n",
    "        for l in alphabet:\n",
    "            if i == l:\n",
    "                x += 1\n",
    "    if x== 26:            \n",
    "# Add all the different alphabet letters together, if the total number equals to 26, return True showing that the sentence belongs to pangram; otherwise return False.\n",
    "            return True\n",
    "    else:\n",
    "            return False\n",
    "        \n",
    "pangram('The quick brown fox jumps over the lazy dog')"
   ]
  },
  {
   "cell_type": "code",
   "execution_count": 100,
   "metadata": {
    "collapsed": false
   },
   "outputs": [
    {
     "data": {
      "text/plain": [
       "False"
      ]
     },
     "execution_count": 100,
     "metadata": {},
     "output_type": "execute_result"
    }
   ],
   "source": [
    "pangram('I am a boy')"
   ]
  },
  {
   "cell_type": "markdown",
   "metadata": {},
   "source": [
    "# Question 8:  lyrics()"
   ]
  },
  {
   "cell_type": "code",
   "execution_count": 102,
   "metadata": {
    "collapsed": false
   },
   "outputs": [
    {
     "name": "stdout",
     "output_type": "stream",
     "text": [
      "99 bottles of coke on the wall, 99 bottles of coke.\n",
      "Take one down, pass it around, 98 bottles of coke on the wall.\n",
      "98 bottles of coke on the wall, 98 bottles of coke.\n",
      "Take one down, pass it around, 97 bottles of coke on the wall.\n",
      "97 bottles of coke on the wall, 97 bottles of coke.\n",
      "Take one down, pass it around, 96 bottles of coke on the wall.\n",
      "96 bottles of coke on the wall, 96 bottles of coke.\n",
      "Take one down, pass it around, 95 bottles of coke on the wall.\n",
      "95 bottles of coke on the wall, 95 bottles of coke.\n",
      "Take one down, pass it around, 94 bottles of coke on the wall.\n",
      "94 bottles of coke on the wall, 94 bottles of coke.\n",
      "Take one down, pass it around, 93 bottles of coke on the wall.\n",
      "93 bottles of coke on the wall, 93 bottles of coke.\n",
      "Take one down, pass it around, 92 bottles of coke on the wall.\n",
      "92 bottles of coke on the wall, 92 bottles of coke.\n",
      "Take one down, pass it around, 91 bottles of coke on the wall.\n",
      "91 bottles of coke on the wall, 91 bottles of coke.\n",
      "Take one down, pass it around, 90 bottles of coke on the wall.\n",
      "90 bottles of coke on the wall, 90 bottles of coke.\n",
      "Take one down, pass it around, 89 bottles of coke on the wall.\n",
      "89 bottles of coke on the wall, 89 bottles of coke.\n",
      "Take one down, pass it around, 88 bottles of coke on the wall.\n",
      "88 bottles of coke on the wall, 88 bottles of coke.\n",
      "Take one down, pass it around, 87 bottles of coke on the wall.\n",
      "87 bottles of coke on the wall, 87 bottles of coke.\n",
      "Take one down, pass it around, 86 bottles of coke on the wall.\n",
      "86 bottles of coke on the wall, 86 bottles of coke.\n",
      "Take one down, pass it around, 85 bottles of coke on the wall.\n",
      "85 bottles of coke on the wall, 85 bottles of coke.\n",
      "Take one down, pass it around, 84 bottles of coke on the wall.\n",
      "84 bottles of coke on the wall, 84 bottles of coke.\n",
      "Take one down, pass it around, 83 bottles of coke on the wall.\n",
      "83 bottles of coke on the wall, 83 bottles of coke.\n",
      "Take one down, pass it around, 82 bottles of coke on the wall.\n",
      "82 bottles of coke on the wall, 82 bottles of coke.\n",
      "Take one down, pass it around, 81 bottles of coke on the wall.\n",
      "81 bottles of coke on the wall, 81 bottles of coke.\n",
      "Take one down, pass it around, 80 bottles of coke on the wall.\n",
      "80 bottles of coke on the wall, 80 bottles of coke.\n",
      "Take one down, pass it around, 79 bottles of coke on the wall.\n",
      "79 bottles of coke on the wall, 79 bottles of coke.\n",
      "Take one down, pass it around, 78 bottles of coke on the wall.\n",
      "78 bottles of coke on the wall, 78 bottles of coke.\n",
      "Take one down, pass it around, 77 bottles of coke on the wall.\n",
      "77 bottles of coke on the wall, 77 bottles of coke.\n",
      "Take one down, pass it around, 76 bottles of coke on the wall.\n",
      "76 bottles of coke on the wall, 76 bottles of coke.\n",
      "Take one down, pass it around, 75 bottles of coke on the wall.\n",
      "75 bottles of coke on the wall, 75 bottles of coke.\n",
      "Take one down, pass it around, 74 bottles of coke on the wall.\n",
      "74 bottles of coke on the wall, 74 bottles of coke.\n",
      "Take one down, pass it around, 73 bottles of coke on the wall.\n",
      "73 bottles of coke on the wall, 73 bottles of coke.\n",
      "Take one down, pass it around, 72 bottles of coke on the wall.\n",
      "72 bottles of coke on the wall, 72 bottles of coke.\n",
      "Take one down, pass it around, 71 bottles of coke on the wall.\n",
      "71 bottles of coke on the wall, 71 bottles of coke.\n",
      "Take one down, pass it around, 70 bottles of coke on the wall.\n",
      "70 bottles of coke on the wall, 70 bottles of coke.\n",
      "Take one down, pass it around, 69 bottles of coke on the wall.\n",
      "69 bottles of coke on the wall, 69 bottles of coke.\n",
      "Take one down, pass it around, 68 bottles of coke on the wall.\n",
      "68 bottles of coke on the wall, 68 bottles of coke.\n",
      "Take one down, pass it around, 67 bottles of coke on the wall.\n",
      "67 bottles of coke on the wall, 67 bottles of coke.\n",
      "Take one down, pass it around, 66 bottles of coke on the wall.\n",
      "66 bottles of coke on the wall, 66 bottles of coke.\n",
      "Take one down, pass it around, 65 bottles of coke on the wall.\n",
      "65 bottles of coke on the wall, 65 bottles of coke.\n",
      "Take one down, pass it around, 64 bottles of coke on the wall.\n",
      "64 bottles of coke on the wall, 64 bottles of coke.\n",
      "Take one down, pass it around, 63 bottles of coke on the wall.\n",
      "63 bottles of coke on the wall, 63 bottles of coke.\n",
      "Take one down, pass it around, 62 bottles of coke on the wall.\n",
      "62 bottles of coke on the wall, 62 bottles of coke.\n",
      "Take one down, pass it around, 61 bottles of coke on the wall.\n",
      "61 bottles of coke on the wall, 61 bottles of coke.\n",
      "Take one down, pass it around, 60 bottles of coke on the wall.\n",
      "60 bottles of coke on the wall, 60 bottles of coke.\n",
      "Take one down, pass it around, 59 bottles of coke on the wall.\n",
      "59 bottles of coke on the wall, 59 bottles of coke.\n",
      "Take one down, pass it around, 58 bottles of coke on the wall.\n",
      "58 bottles of coke on the wall, 58 bottles of coke.\n",
      "Take one down, pass it around, 57 bottles of coke on the wall.\n",
      "57 bottles of coke on the wall, 57 bottles of coke.\n",
      "Take one down, pass it around, 56 bottles of coke on the wall.\n",
      "56 bottles of coke on the wall, 56 bottles of coke.\n",
      "Take one down, pass it around, 55 bottles of coke on the wall.\n",
      "55 bottles of coke on the wall, 55 bottles of coke.\n",
      "Take one down, pass it around, 54 bottles of coke on the wall.\n",
      "54 bottles of coke on the wall, 54 bottles of coke.\n",
      "Take one down, pass it around, 53 bottles of coke on the wall.\n",
      "53 bottles of coke on the wall, 53 bottles of coke.\n",
      "Take one down, pass it around, 52 bottles of coke on the wall.\n",
      "52 bottles of coke on the wall, 52 bottles of coke.\n",
      "Take one down, pass it around, 51 bottles of coke on the wall.\n",
      "51 bottles of coke on the wall, 51 bottles of coke.\n",
      "Take one down, pass it around, 50 bottles of coke on the wall.\n",
      "50 bottles of coke on the wall, 50 bottles of coke.\n",
      "Take one down, pass it around, 49 bottles of coke on the wall.\n",
      "49 bottles of coke on the wall, 49 bottles of coke.\n",
      "Take one down, pass it around, 48 bottles of coke on the wall.\n",
      "48 bottles of coke on the wall, 48 bottles of coke.\n",
      "Take one down, pass it around, 47 bottles of coke on the wall.\n",
      "47 bottles of coke on the wall, 47 bottles of coke.\n",
      "Take one down, pass it around, 46 bottles of coke on the wall.\n",
      "46 bottles of coke on the wall, 46 bottles of coke.\n",
      "Take one down, pass it around, 45 bottles of coke on the wall.\n",
      "45 bottles of coke on the wall, 45 bottles of coke.\n",
      "Take one down, pass it around, 44 bottles of coke on the wall.\n",
      "44 bottles of coke on the wall, 44 bottles of coke.\n",
      "Take one down, pass it around, 43 bottles of coke on the wall.\n",
      "43 bottles of coke on the wall, 43 bottles of coke.\n",
      "Take one down, pass it around, 42 bottles of coke on the wall.\n",
      "42 bottles of coke on the wall, 42 bottles of coke.\n",
      "Take one down, pass it around, 41 bottles of coke on the wall.\n",
      "41 bottles of coke on the wall, 41 bottles of coke.\n",
      "Take one down, pass it around, 40 bottles of coke on the wall.\n",
      "40 bottles of coke on the wall, 40 bottles of coke.\n",
      "Take one down, pass it around, 39 bottles of coke on the wall.\n",
      "39 bottles of coke on the wall, 39 bottles of coke.\n",
      "Take one down, pass it around, 38 bottles of coke on the wall.\n",
      "38 bottles of coke on the wall, 38 bottles of coke.\n",
      "Take one down, pass it around, 37 bottles of coke on the wall.\n",
      "37 bottles of coke on the wall, 37 bottles of coke.\n",
      "Take one down, pass it around, 36 bottles of coke on the wall.\n",
      "36 bottles of coke on the wall, 36 bottles of coke.\n",
      "Take one down, pass it around, 35 bottles of coke on the wall.\n",
      "35 bottles of coke on the wall, 35 bottles of coke.\n",
      "Take one down, pass it around, 34 bottles of coke on the wall.\n",
      "34 bottles of coke on the wall, 34 bottles of coke.\n",
      "Take one down, pass it around, 33 bottles of coke on the wall.\n",
      "33 bottles of coke on the wall, 33 bottles of coke.\n",
      "Take one down, pass it around, 32 bottles of coke on the wall.\n",
      "32 bottles of coke on the wall, 32 bottles of coke.\n",
      "Take one down, pass it around, 31 bottles of coke on the wall.\n",
      "31 bottles of coke on the wall, 31 bottles of coke.\n",
      "Take one down, pass it around, 30 bottles of coke on the wall.\n",
      "30 bottles of coke on the wall, 30 bottles of coke.\n",
      "Take one down, pass it around, 29 bottles of coke on the wall.\n",
      "29 bottles of coke on the wall, 29 bottles of coke.\n",
      "Take one down, pass it around, 28 bottles of coke on the wall.\n",
      "28 bottles of coke on the wall, 28 bottles of coke.\n",
      "Take one down, pass it around, 27 bottles of coke on the wall.\n",
      "27 bottles of coke on the wall, 27 bottles of coke.\n",
      "Take one down, pass it around, 26 bottles of coke on the wall.\n",
      "26 bottles of coke on the wall, 26 bottles of coke.\n",
      "Take one down, pass it around, 25 bottles of coke on the wall.\n",
      "25 bottles of coke on the wall, 25 bottles of coke.\n",
      "Take one down, pass it around, 24 bottles of coke on the wall.\n",
      "24 bottles of coke on the wall, 24 bottles of coke.\n",
      "Take one down, pass it around, 23 bottles of coke on the wall.\n",
      "23 bottles of coke on the wall, 23 bottles of coke.\n",
      "Take one down, pass it around, 22 bottles of coke on the wall.\n",
      "22 bottles of coke on the wall, 22 bottles of coke.\n",
      "Take one down, pass it around, 21 bottles of coke on the wall.\n",
      "21 bottles of coke on the wall, 21 bottles of coke.\n",
      "Take one down, pass it around, 20 bottles of coke on the wall.\n",
      "20 bottles of coke on the wall, 20 bottles of coke.\n",
      "Take one down, pass it around, 19 bottles of coke on the wall.\n",
      "19 bottles of coke on the wall, 19 bottles of coke.\n",
      "Take one down, pass it around, 18 bottles of coke on the wall.\n",
      "18 bottles of coke on the wall, 18 bottles of coke.\n",
      "Take one down, pass it around, 17 bottles of coke on the wall.\n",
      "17 bottles of coke on the wall, 17 bottles of coke.\n",
      "Take one down, pass it around, 16 bottles of coke on the wall.\n",
      "16 bottles of coke on the wall, 16 bottles of coke.\n",
      "Take one down, pass it around, 15 bottles of coke on the wall.\n",
      "15 bottles of coke on the wall, 15 bottles of coke.\n",
      "Take one down, pass it around, 14 bottles of coke on the wall.\n",
      "14 bottles of coke on the wall, 14 bottles of coke.\n",
      "Take one down, pass it around, 13 bottles of coke on the wall.\n",
      "13 bottles of coke on the wall, 13 bottles of coke.\n",
      "Take one down, pass it around, 12 bottles of coke on the wall.\n",
      "12 bottles of coke on the wall, 12 bottles of coke.\n",
      "Take one down, pass it around, 11 bottles of coke on the wall.\n",
      "11 bottles of coke on the wall, 11 bottles of coke.\n",
      "Take one down, pass it around, 10 bottles of coke on the wall.\n",
      "10 bottles of coke on the wall, 10 bottles of coke.\n",
      "Take one down, pass it around, 9 bottles of coke on the wall.\n",
      "9 bottles of coke on the wall, 9 bottles of coke.\n",
      "Take one down, pass it around, 8 bottles of coke on the wall.\n",
      "8 bottles of coke on the wall, 8 bottles of coke.\n",
      "Take one down, pass it around, 7 bottles of coke on the wall.\n",
      "7 bottles of coke on the wall, 7 bottles of coke.\n",
      "Take one down, pass it around, 6 bottles of coke on the wall.\n",
      "6 bottles of coke on the wall, 6 bottles of coke.\n",
      "Take one down, pass it around, 5 bottles of coke on the wall.\n",
      "5 bottles of coke on the wall, 5 bottles of coke.\n",
      "Take one down, pass it around, 4 bottles of coke on the wall.\n",
      "4 bottles of coke on the wall, 4 bottles of coke.\n",
      "Take one down, pass it around, 3 bottles of coke on the wall.\n",
      "3 bottles of coke on the wall, 3 bottles of coke.\n",
      "Take one down, pass it around, 2 bottles of coke on the wall.\n",
      "2 bottles of coke on the wall, 2 bottles of coke.\n",
      "Take one down, pass it around, 1 bottles of coke on the wall.\n",
      "1 bottles of coke on the wall, 1 bottles of coke.\n",
      "Take one down, pass it around, 0 bottles of coke on the wall.\n"
     ]
    }
   ],
   "source": [
    "\"\"\"\n",
    "Define a function lyrics() to generate all the verses of the song.\n",
    "\n",
    "\"\"\"\n",
    "def lyrics(x):   \n",
    "    for i in range(x,0,-1):    \n",
    "# Substitute all the integers that appear within the lyrics several times by the reverse order from the input x to 1. \n",
    "        print('%d bottles of coke on the wall, %d bottles of coke.\\n'\\\n",
    "              'Take one down, pass it around, %d bottles of coke on the wall.'%(i,i,i-1))\n",
    "# %d here is a special command that stands for numbers.\\n'\\ means to change the row. %(i,i,i-1) is just the command for which number be substituted into each of these three relevant places.\n",
    "\n",
    "lyrics(99)"
   ]
  },
  {
   "cell_type": "markdown",
   "metadata": {},
   "source": [
    "# Question 9: translate()"
   ]
  },
  {
   "cell_type": "code",
   "execution_count": 103,
   "metadata": {
    "collapsed": false
   },
   "outputs": [
    {
     "data": {
      "text/plain": [
       "['god', 'jul', 'och', 'gott', 'nytt', 'ar']"
      ]
     },
     "execution_count": 103,
     "metadata": {},
     "output_type": "execute_result"
    }
   ],
   "source": [
    "\"\"\"\n",
    "Define a function translate ()that takes a list of English words into Swedish.\n",
    "\n",
    "\"\"\"\n",
    "def translate(words): \n",
    "    Wordlist = {\"merry\": \"god\", \"christmas\": \"jul\", \"and\": \"och\", \"happy\": \"gott\", \"new\": \"nytt\", \"year\": \"ar\"}\n",
    "    return [Wordlist[i] for i in words]  \n",
    "# Select every Swedish words that want to be outputed within the wordlist based on the corresponding input English words.\n",
    "\n",
    "translate(['merry','christmas','and','happy','new','year'])"
   ]
  },
  {
   "cell_type": "markdown",
   "metadata": {},
   "source": [
    "# Question 10: char_freq()"
   ]
  },
  {
   "cell_type": "code",
   "execution_count": 105,
   "metadata": {
    "collapsed": false
   },
   "outputs": [
    {
     "data": {
      "text/plain": [
       "{'a': 10, 'b': 15, 'c': 5, 'd': 8}"
      ]
     },
     "execution_count": 105,
     "metadata": {},
     "output_type": "execute_result"
    }
   ],
   "source": [
    "\"\"\"\n",
    "Define a function char_freq() that takes a string and builds a frequency listing of the characters contained in it.\n",
    "\n",
    "\"\"\"\n",
    "def char_freq(string):          \n",
    "    frequency = {x: 0 for x in string}   \n",
    "# Initialize the frequency of all the characters within the string to zero.\n",
    "    for i in string:        \n",
    "# Utilize the for loop to count each of the character within the string if they appear more than once.\n",
    "        frequency[i] += 1\n",
    "    return frequency\n",
    "\n",
    "char_freq('abbbbdabbbcaaadddabbcbabddcbabddcabacb')"
   ]
  },
  {
   "cell_type": "markdown",
   "metadata": {},
   "source": [
    "# Question 11: en_decode_ROT13()"
   ]
  },
  {
   "cell_type": "code",
   "execution_count": 107,
   "metadata": {
    "collapsed": false
   },
   "outputs": [
    {
     "data": {
      "text/plain": [
       "'Caesar cipher? I much prefer Caesar salad!'"
      ]
     },
     "execution_count": 107,
     "metadata": {},
     "output_type": "execute_result"
    }
   ],
   "source": [
    "\"\"\"\n",
    "Define a function en_decode_ROT13() to implement an encoder/decoder of ROT-13.\n",
    "\n",
    "\"\"\"\n",
    "def en_decode_ROT13(message):   \n",
    "    x=\"\"\n",
    "# Initilized x to an empty string.\n",
    "    dictionary = {'a':'n', 'b':'o', 'c':'p', 'd':'q', 'e':'r', 'f':'s', 'g':'t', 'h':'u', \n",
    "       'i':'v', 'j':'w', 'k':'x', 'l':'y', 'm':'z', 'n':'a', 'o':'b', 'p':'c', \n",
    "       'q':'d', 'r':'e', 's':'f', 't':'g', 'u':'h', 'v':'i', 'w':'j', 'x':'k',\n",
    "       'y':'l', 'z':'m', 'A':'N', 'B':'O', 'C':'P', 'D':'Q', 'E':'R', 'F':'S', \n",
    "       'G':'T', 'H':'U', 'I':'V', 'J':'W', 'K':'X', 'L':'Y', 'M':'Z', 'N':'A', \n",
    "       'O':'B', 'P':'C', 'Q':'D', 'R':'E', 'S':'F', 'T':'G', 'U':'H', 'V':'I', \n",
    "       'W':'J', 'X':'K', 'Y':'L', 'Z':'M'}     \n",
    "# Set a ROT-13 dictionary.\n",
    "    for i in message:\n",
    "        q = i in dictionary.keys()    \n",
    "# Use the for loop to select each character within the message and find their corresponding ROT-13 letters. \n",
    "        if q==True:\n",
    "            x+=(dictionary[i])     \n",
    "# Keep adding these new defined characters to the blank space 'x'.\n",
    "        else:\n",
    "            x+=i        \n",
    "# If the character cannot find in the dictionary (like the question mark), then put it directly to x.\n",
    "    return x     \n",
    "# Output the final result. \n",
    "\n",
    "en_decode_ROT13('Pnrfne pvcure? V zhpu cersre Pnrfne fnynq!')"
   ]
  },
  {
   "cell_type": "markdown",
   "metadata": {},
   "source": [
    "# Question 12: correct()"
   ]
  },
  {
   "cell_type": "code",
   "execution_count": 109,
   "metadata": {
    "collapsed": false
   },
   "outputs": [
    {
     "data": {
      "text/plain": [
       "'This is very funny and cool. Indeed!'"
      ]
     },
     "execution_count": 109,
     "metadata": {},
     "output_type": "execute_result"
    }
   ],
   "source": [
    "\"\"\"\n",
    "Define a function correct() that takes a string and sees to it that\n",
    "1) two or more occurrences of the space character is compressed into one,\n",
    "and 2)inserts an extra space after a period if the period is directly followed by a letter. \n",
    "\n",
    "\"\"\"\n",
    "import re   \n",
    "# Import regular expression syntax.\n",
    "\n",
    "def correct(sentence):  \n",
    "    sentence = re.sub(r'[.]([a-zA-Z])', r'. \\1', sentence)  \n",
    "# use the substitution command to recognize a pattern of period directly followed by letter, then insert an extra space after the period. \n",
    "    sentence = re.sub(r'( )+', r'\\1', sentence) \n",
    "# use the substitution command to recongize the pattern of the occurrances of two or more space characters; if so, compressed them into one.\n",
    "    return sentence\n",
    "\n",
    "correct('This   is very  funny and  cool.Indeed!')"
   ]
  },
  {
   "cell_type": "markdown",
   "metadata": {},
   "source": [
    "# Question 13: make_3sg_form()"
   ]
  },
  {
   "cell_type": "code",
   "execution_count": 111,
   "metadata": {
    "collapsed": false
   },
   "outputs": [
    {
     "data": {
      "text/plain": [
       "'tries'"
      ]
     },
     "execution_count": 111,
     "metadata": {},
     "output_type": "execute_result"
    }
   ],
   "source": [
    "\"\"\"\n",
    "Define a function make_3sg_form() which given a verb in infinitive form returns its third person singular form. \n",
    "\n",
    "\"\"\"\n",
    "import re   \n",
    "# Import the regular expression syntax.\n",
    "\n",
    "def make_3sg_form(word):       \n",
    "    i = ('o', 'ch', 's', 'sh', 'x', 'z')  \n",
    "# Classify if the verb ends in o, ch, s, sh, x or z add 'es'.\n",
    "    if word.endswith('y'):           \n",
    "# Use the string endswith() method to test if the input verb ended with letter y, if so replace it with the words ies.\n",
    "        return re.sub('y$', 'ies', word)\n",
    "    elif word.endswith(i):   \n",
    "# Use if, else-if and else command to discuss other situations that if the input verb ends with letters included within'i', then add 'es'; otherwise, add 's' directly. \n",
    "        return word + 'es'\n",
    "    else:\n",
    "        return word + 's'\n",
    "    \n",
    "make_3sg_form('try')   "
   ]
  },
  {
   "cell_type": "code",
   "execution_count": 112,
   "metadata": {
    "collapsed": false
   },
   "outputs": [
    {
     "data": {
      "text/plain": [
       "'brushes'"
      ]
     },
     "execution_count": 112,
     "metadata": {},
     "output_type": "execute_result"
    }
   ],
   "source": [
    "make_3sg_form('brush')"
   ]
  },
  {
   "cell_type": "code",
   "execution_count": 113,
   "metadata": {
    "collapsed": false
   },
   "outputs": [
    {
     "data": {
      "text/plain": [
       "'runs'"
      ]
     },
     "execution_count": 113,
     "metadata": {},
     "output_type": "execute_result"
    }
   ],
   "source": [
    "make_3sg_form('run')"
   ]
  },
  {
   "cell_type": "code",
   "execution_count": 114,
   "metadata": {
    "collapsed": false
   },
   "outputs": [
    {
     "data": {
      "text/plain": [
       "'fixes'"
      ]
     },
     "execution_count": 114,
     "metadata": {},
     "output_type": "execute_result"
    }
   ],
   "source": [
    "make_3sg_form('fix')"
   ]
  },
  {
   "cell_type": "markdown",
   "metadata": {},
   "source": [
    "# Question 14: make_ing_form()"
   ]
  },
  {
   "cell_type": "code",
   "execution_count": 115,
   "metadata": {
    "collapsed": false
   },
   "outputs": [
    {
     "data": {
      "text/plain": [
       "'lying'"
      ]
     },
     "execution_count": 115,
     "metadata": {},
     "output_type": "execute_result"
    }
   ],
   "source": [
    "\"\"\"\n",
    "Define a function make_ing_form () which given a verb in infinitive form returns its present participle form. \n",
    "\n",
    "\"\"\"\n",
    "def make_ing_form(verb): \n",
    "    if verb.endswith('e') and (verb[-2].endswith('e') or len(verb) == 2):\n",
    "        return verb + 'ing'  \n",
    "#  Select some unique verbs such as be.see.flee and knee; these verbs add 'ing' directly.\n",
    "    elif verb.endswith('ie'):\n",
    "        return verb[:-2] + 'ying'\n",
    "# Select the verbs that end in ie, then replace it with 'ying'.\n",
    "    elif verb.endswith('e'):\n",
    "        return verb[:-1] + 'ing'\n",
    "# Select the verbs that end in e, then replace it with'ing'.\n",
    "    elif not get_vowel(verb[-1]) and get_vowel(verb[-2]) and not get_vowel(verb[-3]):\n",
    "        return verb + verb[-1] + 'ing' \n",
    "# By using the previous defined function get_vowel () to select the verb which the last three letters are consonant-vowel-consonant, then double the final letter and then adding 'ing'. \n",
    "    else:                \n",
    "        return verb + 'ing'\n",
    "# For other situations, add 'ing' directly after the verb. \n",
    "\n",
    "make_ing_form('lie')"
   ]
  },
  {
   "cell_type": "code",
   "execution_count": 116,
   "metadata": {
    "collapsed": false
   },
   "outputs": [
    {
     "data": {
      "text/plain": [
       "'seeing'"
      ]
     },
     "execution_count": 116,
     "metadata": {},
     "output_type": "execute_result"
    }
   ],
   "source": [
    "make_ing_form('see')"
   ]
  },
  {
   "cell_type": "code",
   "execution_count": 117,
   "metadata": {
    "collapsed": false
   },
   "outputs": [
    {
     "data": {
      "text/plain": [
       "'moving'"
      ]
     },
     "execution_count": 117,
     "metadata": {},
     "output_type": "execute_result"
    }
   ],
   "source": [
    "make_ing_form('move')"
   ]
  },
  {
   "cell_type": "code",
   "execution_count": 118,
   "metadata": {
    "collapsed": false
   },
   "outputs": [
    {
     "data": {
      "text/plain": [
       "'hugging'"
      ]
     },
     "execution_count": 118,
     "metadata": {},
     "output_type": "execute_result"
    }
   ],
   "source": [
    "make_ing_form('hug')"
   ]
  },
  {
   "cell_type": "code",
   "execution_count": null,
   "metadata": {
    "collapsed": true
   },
   "outputs": [],
   "source": []
  }
 ],
 "metadata": {
  "kernelspec": {
   "display_name": "Python 3",
   "language": "python",
   "name": "python3"
  },
  "language_info": {
   "codemirror_mode": {
    "name": "ipython",
    "version": 3
   },
   "file_extension": ".py",
   "mimetype": "text/x-python",
   "name": "python",
   "nbconvert_exporter": "python",
   "pygments_lexer": "ipython3",
   "version": "3.4.3"
  }
 },
 "nbformat": 4,
 "nbformat_minor": 0
}
