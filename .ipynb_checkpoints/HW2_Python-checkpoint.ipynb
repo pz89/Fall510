{
 "cells": [
  {
   "cell_type": "markdown",
   "metadata": {},
   "source": [
    "You comment your functions well, but there should be a comment that describes the function using \"\"\" at the top of the function, so that it works with help(). Also be careful about your return types, \"True\" is not the same as True; the first is a string and the second is a Boolean. The distinction is very important, particularly when you need your functions to return predictable types."
   ]
  },
  {
   "cell_type": "code",
   "execution_count": 1,
   "metadata": {
    "collapsed": false
   },
   "outputs": [
    {
     "name": "stdout",
     "output_type": "stream",
     "text": [
      "0\n",
      "1\n",
      "1\n",
      "2\n",
      "3\n",
      "5\n",
      "8\n",
      "13\n",
      "21\n",
      "34\n",
      "55\n"
     ]
    }
   ],
   "source": [
    "def fib(num):     # Define a function fib that takes a number as a parameter and prints all the Fibonacci numbers less than \"n\" to the screen.\n",
    "    x,y=0,1\n",
    "    if num<=y:           # Assign the first two initial conditions x,y with zero and one.\n",
    "        print(\"0\")       # First condition: if the input number is less than or equal to one, the output is zero rather than a series of numbers.\n",
    "    else:\n",
    "        print(x)         # Second condition: if the inpur number is greater than or equal to two, the output should be the Fibonacci numbers.\n",
    "        print(y)\n",
    "    while num>y:        # Use while loop to assign the third, forth,fifth...numbers by adding the sum of the previous two numbers. These two assignments should be done simultaneously. Otherwisethe variable y will be assigned to a different value. \n",
    "        x,y=y,x+y\n",
    "        if num>y:       # check whether the largest number so far is greater than the imput number or not. If not, continue the while loop until y is greater than the input number n. \n",
    "            print(y) \n",
    "        else:\n",
    "            exit\n",
    "\n",
    "# SW: lost points: missing doc header comments"
   ]
  },
  {
   "cell_type": "code",
   "execution_count": 99,
   "metadata": {
    "collapsed": false
   },
   "outputs": [
    {
     "name": "stdout",
     "output_type": "stream",
     "text": [
      "0\n",
      "1\n",
      "1\n",
      "2\n",
      "3\n",
      "5\n",
      "8\n",
      "13\n",
      "21\n",
      "34\n",
      "55\n",
      "89\n"
     ]
    }
   ],
   "source": [
    "fib(100)"
   ]
  },
  {
   "cell_type": "code",
   "execution_count": 100,
   "metadata": {
    "collapsed": false
   },
   "outputs": [],
   "source": [
    "def mymax(p1,p2):   # Define a function mymax() that returns the largest of the two elements p1 and p2.\n",
    "    \n",
    "    if (p1>=p2):     # Use the if-then-else to compare p1 and p2, then select the largest number. \n",
    "        return p1\n",
    "    else:\n",
    "        return p2\n",
    "    \n",
    "# SW: concise implementation, nice. \n",
    "# lost points: missing doc header comments"
   ]
  },
  {
   "cell_type": "code",
   "execution_count": 101,
   "metadata": {
    "collapsed": false
   },
   "outputs": [
    {
     "data": {
      "text/plain": [
       "7"
      ]
     },
     "execution_count": 101,
     "metadata": {},
     "output_type": "execute_result"
    }
   ],
   "source": [
    "mymax(3,7)"
   ]
  },
  {
   "cell_type": "code",
   "execution_count": 102,
   "metadata": {
    "collapsed": false
   },
   "outputs": [],
   "source": [
    "def max_of_three(p1,p2,p3):        # Define a function max_of_three() that returns the largest of them.\n",
    "    \n",
    "    if (p1>=p2) and (p1>=p3):      # Use if-then-else to compare p1 with p2 and p3 first; if p1 is the largest, directly return p1.\n",
    "        return p1\n",
    "    elif (p2>=p1) and (p2>=p3):    # If not compare p2 with p1 and p3, if p2 is the largest, directly return p2.\n",
    "        return p2\n",
    "    else:                           # Otherwise p3 is the largest number, so directly return p3 as the final result. \n",
    "        return p3\n",
    "    \n",
    "# SW: you only need three comparisons: p1 to p2, p1 to p3, and p2 to p3. you can handle the\n",
    "# rest with conditional logic. \n",
    "# lost points: missing doc header comments"
   ]
  },
  {
   "cell_type": "code",
   "execution_count": 103,
   "metadata": {
    "collapsed": false
   },
   "outputs": [
    {
     "data": {
      "text/plain": [
       "45"
      ]
     },
     "execution_count": 103,
     "metadata": {},
     "output_type": "execute_result"
    }
   ],
   "source": [
    "max_of_three(2,45,6)"
   ]
  },
  {
   "cell_type": "code",
   "execution_count": 104,
   "metadata": {
    "collapsed": true
   },
   "outputs": [],
   "source": [
    "def mylen(p):                       # Define a function mylen() that computes tha length of a list or string.\n",
    "    if p == '':                     # For each input, if there is no length of it, just return zero as the output.\n",
    "        return 0\n",
    "    else:                           # If the imput has at least one character, then we should count the first number and then add all the remaining characters by using {1:} \n",
    "        return 1 + mylen(p[1:])\n",
    "    \n",
    "# SW: lost points: missing doc header comments"
   ]
  },
  {
   "cell_type": "code",
   "execution_count": 105,
   "metadata": {
    "collapsed": false
   },
   "outputs": [
    {
     "data": {
      "text/plain": [
       "6"
      ]
     },
     "execution_count": 105,
     "metadata": {},
     "output_type": "execute_result"
    }
   ],
   "source": [
    "mylen(\"pigeon\")"
   ]
  },
  {
   "cell_type": "code",
   "execution_count": 7,
   "metadata": {
    "collapsed": false
   },
   "outputs": [
    {
     "name": "stdout",
     "output_type": "stream",
     "text": [
      "<class 'str'>\n",
      "<class 'bool'>\n",
      "False\n",
      "None\n"
     ]
    }
   ],
   "source": [
    "def get_vowels(x):              # Define a function that takes a a character and returns \"true\" if it is a vowels, \"false\" otherwise.\n",
    "\n",
    "    if x==\"a\":                  # Use if-else if to select a character. If it is one of the vowels, print \"true\" as the outcome, otherwise print \"false\". \n",
    "        print (\"True\")\n",
    "    elif x==\"e\":\n",
    "        print (\"True\")\n",
    "    elif x==\"i\":\n",
    "        print (\"True\")\n",
    "    elif x==\"o\":\n",
    "        print (\"True\")\n",
    "    elif x==\"u\":\n",
    "        print (\"True\")\n",
    "    else:\n",
    "        print (\"False\") \n",
    "\n",
    "# SW: lost points: this function should return a Boolean value True/False, not print it to\n",
    "# screen. and, watch your return types, you're actually printing a string here, see below. \n",
    "# and, your function should handle upper case values, e.g., 'A'. missing doc header \n",
    "# comments.\n",
    "print(type(\"True\"))\n",
    "print(type(True))\n",
    "print(get_vowels('A'))"
   ]
  },
  {
   "cell_type": "code",
   "execution_count": 112,
   "metadata": {
    "collapsed": false
   },
   "outputs": [
    {
     "name": "stdout",
     "output_type": "stream",
     "text": [
      "True\n"
     ]
    }
   ],
   "source": [
    "get_vowels(\"e\")"
   ]
  },
  {
   "cell_type": "code",
   "execution_count": 113,
   "metadata": {
    "collapsed": false
   },
   "outputs": [
    {
     "name": "stdout",
     "output_type": "stream",
     "text": [
      "False\n"
     ]
    }
   ],
   "source": [
    "get_vowels(\"p\")"
   ]
  },
  {
   "cell_type": "code",
   "execution_count": 9,
   "metadata": {
    "collapsed": false
   },
   "outputs": [],
   "source": [
    "def translate (word):  # Define a function translate()that will translate a text into Swedish language.\n",
    "    consonant=['b','c','d','f','g','h','j','k','l','m','n','p','q','r','s','t','v','w','x','y','z']  # Collect all the consonant characters.\n",
    "    Swedish_word = (s + 'o' + s if s in consonant else s for s in word)     # Use the for loop and if-else to make a selection for the characters. If it belongs to vowels,make no change; otherwise double the letters and add a letter \"o\" between them. \n",
    "    return \"\".join(Swedish_word)   # put all these letters together     \n",
    "\n",
    "# SW: interesting implementation. consider: is it easier to keep track of a shorter list, e.g.,\n",
    "# the vowels, or a longer list, e.g., the consonants? it's pretty easy to list the vowels and\n",
    "# more error-prone to list the consonants. just something to consider. \n",
    "# lost points: missing doc header comments"
   ]
  },
  {
   "cell_type": "code",
   "execution_count": 115,
   "metadata": {
    "collapsed": false
   },
   "outputs": [
    {
     "data": {
      "text/plain": [
       "'popyoytothohonon'"
      ]
     },
     "execution_count": 115,
     "metadata": {},
     "output_type": "execute_result"
    }
   ],
   "source": [
    "translate(\"python\")"
   ]
  },
  {
   "cell_type": "code",
   "execution_count": 11,
   "metadata": {
    "collapsed": false
   },
   "outputs": [
    {
     "ename": "TypeError",
     "evalue": "unsupported operand type(s) for +=: 'int' and 'list'",
     "output_type": "error",
     "traceback": [
      "\u001b[0;31m---------------------------------------------------------------------------\u001b[0m",
      "\u001b[0;31mTypeError\u001b[0m                                 Traceback (most recent call last)",
      "\u001b[0;32m<ipython-input-11-fbb1ba2166bc>\u001b[0m in \u001b[0;36m<module>\u001b[0;34m()\u001b[0m\n\u001b[1;32m      8\u001b[0m \u001b[0;31m# words, the below should work, but instead returns an error. a list is very different from\u001b[0m\u001b[0;34m\u001b[0m\u001b[0;34m\u001b[0m\u001b[0m\n\u001b[1;32m      9\u001b[0m \u001b[0;31m# a sequence of numbers. missing doc header comments (-3)\u001b[0m\u001b[0;34m\u001b[0m\u001b[0;34m\u001b[0m\u001b[0m\n\u001b[0;32m---> 10\u001b[0;31m \u001b[0msum\u001b[0m\u001b[0;34m(\u001b[0m\u001b[0;34m[\u001b[0m\u001b[0;36m1\u001b[0m\u001b[0;34m,\u001b[0m\u001b[0;36m2\u001b[0m\u001b[0;34m,\u001b[0m\u001b[0;36m3\u001b[0m\u001b[0;34m,\u001b[0m\u001b[0;36m4\u001b[0m\u001b[0;34m]\u001b[0m\u001b[0;34m)\u001b[0m\u001b[0;34m\u001b[0m\u001b[0m\n\u001b[0m",
      "\u001b[0;32m<ipython-input-11-fbb1ba2166bc>\u001b[0m in \u001b[0;36msum\u001b[0;34m(*num)\u001b[0m\n\u001b[1;32m      2\u001b[0m     \u001b[0mr\u001b[0m\u001b[0;34m=\u001b[0m\u001b[0;36m0\u001b[0m                \u001b[0;31m# Use a for loop to compute this function. Add one number of the list in each circle.Use * to select all the numbers of the input.\u001b[0m\u001b[0;34m\u001b[0m\u001b[0m\n\u001b[1;32m      3\u001b[0m     \u001b[0;32mfor\u001b[0m \u001b[0mi\u001b[0m \u001b[0;32min\u001b[0m \u001b[0mnum\u001b[0m\u001b[0;34m:\u001b[0m\u001b[0;34m\u001b[0m\u001b[0m\n\u001b[0;32m----> 4\u001b[0;31m         \u001b[0mr\u001b[0m\u001b[0;34m+=\u001b[0m\u001b[0mi\u001b[0m\u001b[0;34m\u001b[0m\u001b[0m\n\u001b[0m\u001b[1;32m      5\u001b[0m     \u001b[0;32mreturn\u001b[0m \u001b[0mr\u001b[0m\u001b[0;34m\u001b[0m\u001b[0m\n\u001b[1;32m      6\u001b[0m \u001b[0;34m\u001b[0m\u001b[0m\n",
      "\u001b[0;31mTypeError\u001b[0m: unsupported operand type(s) for +=: 'int' and 'list'"
     ]
    }
   ],
   "source": [
    "def sum(*num):        # Define a sum function that sums all the numbers in a list of numbers.\n",
    "    r=0                # Use a for loop to compute this function. Add one number of the list in each circle.Use * to select all the numbers of the input. \n",
    "    for i in num:\n",
    "        r+=i\n",
    "    return r\n",
    "\n",
    "# SW: concise implementation.\n",
    "# lost points: your function was to accept a list as a parameter. in other words, the below\n",
    "# should work, but instead returns an error. a list is very different from a sequence of \n",
    "# numbers. missing doc header comments\n",
    "sum([1,2,3,4])"
   ]
  },
  {
   "cell_type": "code",
   "execution_count": 117,
   "metadata": {
    "collapsed": false
   },
   "outputs": [
    {
     "data": {
      "text/plain": [
       "10"
      ]
     },
     "execution_count": 117,
     "metadata": {},
     "output_type": "execute_result"
    }
   ],
   "source": [
    "sum(1,2,3,4)"
   ]
  },
  {
   "cell_type": "code",
   "execution_count": 118,
   "metadata": {
    "collapsed": true
   },
   "outputs": [],
   "source": [
    "def multiply(*numlist):  # Define a multiply function that multiply all the numbers in a list of numbers.\n",
    "    q=1          # Use a for loop to compute this function. Multiply one number of the list in each circle.Use * to select all the numbers of the input. \n",
    "    for s in numlist:\n",
    "        q*=s\n",
    "    return q\n",
    "\n",
    "# SW: lost points: similarly, your function should accept a list. missing doc header \n",
    "# comments"
   ]
  },
  {
   "cell_type": "code",
   "execution_count": 119,
   "metadata": {
    "collapsed": false
   },
   "outputs": [
    {
     "data": {
      "text/plain": [
       "720"
      ]
     },
     "execution_count": 119,
     "metadata": {},
     "output_type": "execute_result"
    }
   ],
   "source": [
    "multiply(1,2,3,4,5,6)"
   ]
  },
  {
   "cell_type": "code",
   "execution_count": 14,
   "metadata": {
    "collapsed": false
   },
   "outputs": [],
   "source": [
    "def reverse(test):    # Define a function that computes the reserval of a string.\n",
    "    n = len(test)              # Compute the length of the test first. For instance, if the length equals to 5, then number the characters from 0 to 4. \n",
    "    x=\"\"                      # Based on the text property, initialized x into a blank text\"\"\n",
    "    for i in range(n-1,-1,-1):  # Use the for loop to find every character within the text of the reversed order.For instance, if there is 5 characters,range them in the order of 4,3,2,1,0.  \n",
    "        x += test[i]      # Put the reversed order characters in order. \n",
    "    return x             # Get the output\n",
    "\n",
    "# SW: lost points: missing doc header comments"
   ]
  },
  {
   "cell_type": "code",
   "execution_count": 121,
   "metadata": {
    "collapsed": false
   },
   "outputs": [
    {
     "data": {
      "text/plain": [
       "'nohtyp evol I'"
      ]
     },
     "execution_count": 121,
     "metadata": {},
     "output_type": "execute_result"
    }
   ],
   "source": [
    "reverse(\"I love python\")"
   ]
  },
  {
   "cell_type": "code",
   "execution_count": 20,
   "metadata": {
    "collapsed": false
   },
   "outputs": [],
   "source": [
    "def is_palindrome(test):           # Define a function is_palindrome() that recognizes palindromes. \n",
    "    r=test[::-1]                   #  make a reversed order of the input test and assign it as r.\n",
    "    for i in range (0, len(test)-1):  # Use for loop and if-else to compare each character of the input with the reversed order test r. If the letter in each position is all the same, return \"true\" to illustrate that the input test belongs to palindrome; otherwise return \"false\". \n",
    "        if(r[i]==test[i]):\n",
    "            return\"True\"\n",
    "        else:\n",
    "            return\"False\"\n",
    "\n",
    "# SW: lost points: watch your return types. you're returning a string, not a Boolean. and, \n",
    "# your function doesn't seem to be handling the case of a single-letter string, which is \n",
    "# clearly a palindrome, i.e., the below should return True. missing doc header comments\n",
    "is_palindrome('a')"
   ]
  },
  {
   "cell_type": "code",
   "execution_count": 123,
   "metadata": {
    "collapsed": false
   },
   "outputs": [
    {
     "data": {
      "text/plain": [
       "'True'"
      ]
     },
     "execution_count": 123,
     "metadata": {},
     "output_type": "execute_result"
    }
   ],
   "source": [
    "is_palindrome(\"radar\")"
   ]
  },
  {
   "cell_type": "code",
   "execution_count": 124,
   "metadata": {
    "collapsed": false
   },
   "outputs": [
    {
     "data": {
      "text/plain": [
       "'False'"
      ]
     },
     "execution_count": 124,
     "metadata": {},
     "output_type": "execute_result"
    }
   ],
   "source": [
    "is_palindrome(\"math\")"
   ]
  },
  {
   "cell_type": "code",
   "execution_count": 82,
   "metadata": {
    "collapsed": false
   },
   "outputs": [],
   "source": [
    "def is_member(value, list):     # Define a function is_member() that takes a value x and a list of values a, and returns \"True\" if x is a member of a, \"False\" othervise. \n",
    "    \n",
    "    for i in list:              # Use for loop and if-else to compare the first input element with each element within the list. If any of these values in list equals to the input value, then exit the for loop and output \"True\". Otherwise return \"False\". \n",
    "        if i==value:\n",
    "            return \"True\"\n",
    "    else:\n",
    "            return \"False\"\n",
    "\n",
    "# SW: lost points: returning a string, not a Boolean. missing doc header comments"
   ]
  },
  {
   "cell_type": "code",
   "execution_count": 125,
   "metadata": {
    "collapsed": false
   },
   "outputs": [
    {
     "data": {
      "text/plain": [
       "'True'"
      ]
     },
     "execution_count": 125,
     "metadata": {},
     "output_type": "execute_result"
    }
   ],
   "source": [
    "is_member(5,[1,2,3,4,5])"
   ]
  },
  {
   "cell_type": "code",
   "execution_count": 126,
   "metadata": {
    "collapsed": false
   },
   "outputs": [
    {
     "data": {
      "text/plain": [
       "'False'"
      ]
     },
     "execution_count": 126,
     "metadata": {},
     "output_type": "execute_result"
    }
   ],
   "source": [
    "is_member(1,[2,3])"
   ]
  },
  {
   "cell_type": "code",
   "execution_count": 127,
   "metadata": {
    "collapsed": false
   },
   "outputs": [
    {
     "data": {
      "text/plain": [
       "'False'"
      ]
     },
     "execution_count": 127,
     "metadata": {},
     "output_type": "execute_result"
    }
   ],
   "source": [
    "is_member(\"p\",\"big\")"
   ]
  },
  {
   "cell_type": "code",
   "execution_count": 128,
   "metadata": {
    "collapsed": false
   },
   "outputs": [
    {
     "data": {
      "text/plain": [
       "'True'"
      ]
     },
     "execution_count": 128,
     "metadata": {},
     "output_type": "execute_result"
    }
   ],
   "source": [
    "is_member(\"p\",\"pig\")"
   ]
  },
  {
   "cell_type": "code",
   "execution_count": 24,
   "metadata": {
    "collapsed": false
   },
   "outputs": [],
   "source": [
    "def overlapping(list1,list2):      # Define a function overlapping() that takes two lists and returns \"True\" of they have at least one member in common. \"False\" otherwise.\n",
    "    for i in list1:\n",
    "        for l in list2:           # Use two nested for loops to compare each element within list1 with the elements in list2. If there is one member in common, return \"True\". If there is no one common member, return\"False\". \n",
    "            if i==l:\n",
    "                return \"True\"\n",
    "    else:      \n",
    "         return 'False'\n",
    "\n",
    "# SW: lost points: returning a string, not a Boolean. missing doc header comments"
   ]
  },
  {
   "cell_type": "code",
   "execution_count": 146,
   "metadata": {
    "collapsed": false
   },
   "outputs": [
    {
     "data": {
      "text/plain": [
       "'False'"
      ]
     },
     "execution_count": 146,
     "metadata": {},
     "output_type": "execute_result"
    }
   ],
   "source": [
    "overlapping([1,2,3],[4,5])"
   ]
  },
  {
   "cell_type": "code",
   "execution_count": 147,
   "metadata": {
    "collapsed": false
   },
   "outputs": [
    {
     "data": {
      "text/plain": [
       "'True'"
      ]
     },
     "execution_count": 147,
     "metadata": {},
     "output_type": "execute_result"
    }
   ],
   "source": [
    "overlapping([1,2],[2,3])"
   ]
  },
  {
   "cell_type": "code",
   "execution_count": 148,
   "metadata": {
    "collapsed": false
   },
   "outputs": [
    {
     "data": {
      "text/plain": [
       "'True'"
      ]
     },
     "execution_count": 148,
     "metadata": {},
     "output_type": "execute_result"
    }
   ],
   "source": [
    "overlapping(\"love\",\"python\")"
   ]
  },
  {
   "cell_type": "code",
   "execution_count": 149,
   "metadata": {
    "collapsed": false
   },
   "outputs": [
    {
     "data": {
      "text/plain": [
       "'False'"
      ]
     },
     "execution_count": 149,
     "metadata": {},
     "output_type": "execute_result"
    }
   ],
   "source": [
    "overlapping(\"sas\",\"r\")"
   ]
  },
  {
   "cell_type": "code",
   "execution_count": 32,
   "metadata": {
    "collapsed": false
   },
   "outputs": [
    {
     "data": {
      "text/plain": [
       "'a'"
      ]
     },
     "execution_count": 32,
     "metadata": {},
     "output_type": "execute_result"
    }
   ],
   "source": [
    "def generate_n_chars(length, string):    # Define a function generate_n_chars() that take an integer n and a character c and returns a string, n characters long, consisting only of c:s\n",
    "    \n",
    "    while len(string) < length:    # Use the while loop to continue add on strings to the final output. Use string[0] as the index of string because the string only contain one character.\n",
    "        string += string[0]\n",
    "    return (string)\n",
    "\n",
    "# SW: lost points: this implementation is problematic for the case that length = 0 (it should\n",
    "# return an empty string). see below. missing doc header comments\n",
    "generate_n_chars(0,'a')"
   ]
  },
  {
   "cell_type": "code",
   "execution_count": 197,
   "metadata": {
    "collapsed": false
   },
   "outputs": [
    {
     "data": {
      "text/plain": [
       "'uuuuuuuuuu'"
      ]
     },
     "execution_count": 197,
     "metadata": {},
     "output_type": "execute_result"
    }
   ],
   "source": [
    "generate_n_chars(10,\"u\")"
   ]
  }
 ],
 "metadata": {
  "kernelspec": {
   "display_name": "Python 3",
   "language": "python",
   "name": "python3"
  },
  "language_info": {
   "codemirror_mode": {
    "name": "ipython",
    "version": 3
   },
   "file_extension": ".py",
   "mimetype": "text/x-python",
   "name": "python",
   "nbconvert_exporter": "python",
   "pygments_lexer": "ipython3",
   "version": "3.4.3"
  }
 },
 "nbformat": 4,
 "nbformat_minor": 0
}
