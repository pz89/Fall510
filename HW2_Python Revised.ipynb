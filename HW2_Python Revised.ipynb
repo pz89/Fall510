{
 "cells": [
  {
   "cell_type": "markdown",
   "metadata": {},
   "source": [
    "# Question 1: fib()"
   ]
  },
  {
   "cell_type": "code",
   "execution_count": 103,
   "metadata": {
    "collapsed": false
   },
   "outputs": [
    {
     "name": "stdout",
     "output_type": "stream",
     "text": [
      "0\n",
      "1\n",
      "1\n",
      "2\n",
      "3\n",
      "5\n",
      "8\n",
      "13\n",
      "21\n",
      "34\n",
      "55\n",
      "89\n"
     ]
    }
   ],
   "source": [
    "\"\"\"\n",
    " Define a function fib () that takes a number, 'n' as a parameter and prints all the Fibonacci numbers \n",
    " less than \"n\" to the screen.\n",
    "\n",
    "\"\"\"\n",
    "def fib(num):  \n",
    "\n",
    "    x,y=0,1\n",
    "# Assign the first two initial conditions x,y with zero and one.\n",
    "    if num<=y:          \n",
    "        print(\"0\")       \n",
    "# First condition: if the input number is less than or equal to one, the output is zero rather than a series of numbers.\n",
    "    else:\n",
    "        print(x)         \n",
    "        print(y)\n",
    "# Second condition: if the input number is greater than or equal to two, the output should be the Fibonacci numbers.\n",
    "    while num>y:        \n",
    "# Use while loop to assign the third, forth,fifth...numbers by adding the sum of the previous two numbers. These two assignments should be done simultaneously. Otherwise the variable y will be assigned to a different value. \n",
    "        x,y=y,x+y\n",
    "        if num>y:       \n",
    "# Check whether the largest number so far is greater than the input number or not. If not, continue the while loop until y is greater than the input number n. \n",
    "            print(y) \n",
    "        else:\n",
    "            exit\n",
    "\n",
    "fib(100)"
   ]
  },
  {
   "cell_type": "markdown",
   "metadata": {},
   "source": [
    "# Question 2: mymax()"
   ]
  },
  {
   "cell_type": "code",
   "execution_count": 104,
   "metadata": {
    "collapsed": false
   },
   "outputs": [
    {
     "data": {
      "text/plain": [
       "7"
      ]
     },
     "execution_count": 104,
     "metadata": {},
     "output_type": "execute_result"
    }
   ],
   "source": [
    "\"\"\"\n",
    "Define a function mymax() that takes two numbers as arguments and returns the largest of them.\n",
    "\n",
    "\"\"\"\n",
    "def mymax(p1,p2):  \n",
    "\n",
    "    if (p1>=p2):     \n",
    "        return p1\n",
    "    else:\n",
    "        return p2\n",
    "# Use the if-then-else to compare p1 and p2, then select the largest number. \n",
    "mymax(3,7)"
   ]
  },
  {
   "cell_type": "markdown",
   "metadata": {},
   "source": [
    "# Question 3: max_of three()"
   ]
  },
  {
   "cell_type": "code",
   "execution_count": 105,
   "metadata": {
    "collapsed": false
   },
   "outputs": [
    {
     "data": {
      "text/plain": [
       "46"
      ]
     },
     "execution_count": 105,
     "metadata": {},
     "output_type": "execute_result"
    }
   ],
   "source": [
    "\"\"\"\n",
    "Define a function max_of_three() that takes three numbers as arguments and returns the largest of them.\n",
    "\n",
    "\"\"\"\n",
    "def max_of_three(p1,p2,p3):    \n",
    "\n",
    "    if (p1>=p2) and (p1>=p3):     \n",
    "# Use if-then-else to compare p1 with p2 and p3 first; if p1 is the largest, directly return p1.\n",
    "        return p1\n",
    "    elif (p2>=p3):  \n",
    "# If not, compare p2 with p1 and p3, if p2 is the largest, directly return p2.\n",
    "        return p2\n",
    "    else:                           \n",
    "# Otherwise p3 is the largest number, so directly return p3 as the final result. \n",
    "        return p3\n",
    "    \n",
    "max_of_three(2,46,34)"
   ]
  },
  {
   "cell_type": "markdown",
   "metadata": {},
   "source": [
    "# Question 4: mylen()"
   ]
  },
  {
   "cell_type": "code",
   "execution_count": 106,
   "metadata": {
    "collapsed": false
   },
   "outputs": [
    {
     "data": {
      "text/plain": [
       "6"
      ]
     },
     "execution_count": 106,
     "metadata": {},
     "output_type": "execute_result"
    }
   ],
   "source": [
    "\"\"\"\n",
    "Define a function mylen() that computes tha length of a given list or string.\n",
    "\n",
    "\"\"\"\n",
    "\n",
    "def mylen(p):  \n",
    "\n",
    "    if p == '':                    \n",
    "# For each input, if there is no length of it, just return zero as the output.\n",
    "        return 0\n",
    "    else:                           \n",
    "# If the input has at least one character, then we should count the first number and then add all the remaining characters by using [1:]. \n",
    "        return 1 + mylen(p[1:])\n",
    "    \n",
    "mylen('python')"
   ]
  },
  {
   "cell_type": "markdown",
   "metadata": {},
   "source": [
    "# Question 5: get_vowels()"
   ]
  },
  {
   "cell_type": "code",
   "execution_count": 41,
   "metadata": {
    "collapsed": false
   },
   "outputs": [
    {
     "data": {
      "text/plain": [
       "False"
      ]
     },
     "execution_count": 41,
     "metadata": {},
     "output_type": "execute_result"
    }
   ],
   "source": [
    "\"\"\"\n",
    "Define a function get_vowels that () takes a a character and returns True if it is a vowel, False otherwise.\n",
    "\n",
    "\"\"\"\n",
    "def get_vowels(x):  \n",
    "\n",
    "    if x in \"aeiouAEIOU\":                 \n",
    "        return True\n",
    "    else:\n",
    "        return False\n",
    "# Use if-else if to select a character. If it is one of the vowels including capital letters, return True as the outcome, otherwise return False. \n",
    "\n",
    "\n",
    "get_vowels(\"w\")"
   ]
  },
  {
   "cell_type": "code",
   "execution_count": 43,
   "metadata": {
    "collapsed": false
   },
   "outputs": [
    {
     "data": {
      "text/plain": [
       "True"
      ]
     },
     "execution_count": 43,
     "metadata": {},
     "output_type": "execute_result"
    }
   ],
   "source": [
    "get_vowels('E')"
   ]
  },
  {
   "cell_type": "code",
   "execution_count": 44,
   "metadata": {
    "collapsed": false
   },
   "outputs": [
    {
     "data": {
      "text/plain": [
       "True"
      ]
     },
     "execution_count": 44,
     "metadata": {},
     "output_type": "execute_result"
    }
   ],
   "source": [
    "get_vowels('o')"
   ]
  },
  {
   "cell_type": "code",
   "execution_count": 107,
   "metadata": {
    "collapsed": false
   },
   "outputs": [
    {
     "data": {
      "text/plain": [
       "False"
      ]
     },
     "execution_count": 107,
     "metadata": {},
     "output_type": "execute_result"
    }
   ],
   "source": [
    "get_vowels('P')"
   ]
  },
  {
   "cell_type": "markdown",
   "metadata": {},
   "source": [
    "# Question 6: translate()"
   ]
  },
  {
   "cell_type": "code",
   "execution_count": 108,
   "metadata": {
    "collapsed": false
   },
   "outputs": [
    {
     "data": {
      "text/plain": [
       "'popyoytothohonon'"
      ]
     },
     "execution_count": 108,
     "metadata": {},
     "output_type": "execute_result"
    }
   ],
   "source": [
    "\"\"\"\n",
    "Define a function translate()that will translate a text into Swedish language. That is double every consonant and place an occurance\n",
    "of \"o\" in between.\n",
    "\n",
    "\"\"\"\n",
    "def translate (word):  \n",
    "    consonant=['b','c','d','f','g','h','j','k','l','m','n','p','q','r','s','t','v','w','x','y','z']  \n",
    "# Collect all the consonant characters.\n",
    "    Swedish_word = (s + 'o' + s if s in consonant else s for s in word)     \n",
    "# Use the for loop and if-else to make a selection for the characters. If it belongs to vowels,make no change; otherwise double the letters and add a letter \"o\" between them. \n",
    "    return \"\".join(Swedish_word)   \n",
    "# put all these letters together     \n",
    "\n",
    "translate(\"python\")"
   ]
  },
  {
   "cell_type": "markdown",
   "metadata": {},
   "source": [
    "# Question 7: sum()"
   ]
  },
  {
   "cell_type": "code",
   "execution_count": 109,
   "metadata": {
    "collapsed": false
   },
   "outputs": [
    {
     "data": {
      "text/plain": [
       "10"
      ]
     },
     "execution_count": 109,
     "metadata": {},
     "output_type": "execute_result"
    }
   ],
   "source": [
    "\"\"\"\n",
    "Define a sum function () that sums all the numbers in a list of numbers.\n",
    "\n",
    "\"\"\"\n",
    "def sum(num):       \n",
    "    r=0                \n",
    "    for i in num:\n",
    "        r+=i\n",
    "    return r\n",
    "# Use a for loop to compute this function. Add one number of the list in each circle.\n",
    "\n",
    "sum([1,2,3,4])"
   ]
  },
  {
   "cell_type": "markdown",
   "metadata": {},
   "source": [
    "# Question 7: multiply()"
   ]
  },
  {
   "cell_type": "code",
   "execution_count": 111,
   "metadata": {
    "collapsed": false
   },
   "outputs": [
    {
     "data": {
      "text/plain": [
       "120"
      ]
     },
     "execution_count": 111,
     "metadata": {},
     "output_type": "execute_result"
    }
   ],
   "source": [
    "\"\"\"\n",
    "Define a multiply function () that multiplies all the numbers in a list of numbers.\n",
    "\n",
    "\"\"\"\n",
    "def multiply(numlist):  \n",
    "    q=1          \n",
    "    for s in numlist:\n",
    "        q*=s\n",
    "    return q\n",
    "# Use a for loop to compute this function. Multiply one number of the list in each circle.\n",
    "\n",
    "multiply([2,3,4,5])"
   ]
  },
  {
   "cell_type": "markdown",
   "metadata": {},
   "source": [
    "# Question 8: reverse()"
   ]
  },
  {
   "cell_type": "code",
   "execution_count": 112,
   "metadata": {
    "collapsed": false
   },
   "outputs": [
    {
     "data": {
      "text/plain": [
       "'gnitset ma I'"
      ]
     },
     "execution_count": 112,
     "metadata": {},
     "output_type": "execute_result"
    }
   ],
   "source": [
    "\"\"\"\n",
    "Define a function reverse()that computes the reserval of a string.\n",
    "\n",
    "\"\"\"\n",
    "def reverse(test):    \n",
    "    n = len(test)             \n",
    "# Compute the length of the test first. For instance, if the length equals to 5, then number the characters from 0 to 4. \n",
    "    x=\"\"                      \n",
    "# Based on the text property, initialized x into a blank text\"\"\n",
    "    for i in range(n-1,-1,-1):  \n",
    "# Use the for loop to find every character within the text of the reversed order.For instance, if there is 5 characters,range them in the order of 4,3,2,1,0.  \n",
    "        x += test[i]      \n",
    "# Put the reversed order characters in order. \n",
    "    return x             \n",
    "# Get the output\n",
    "\n",
    "reverse(\"I am testing\")"
   ]
  },
  {
   "cell_type": "markdown",
   "metadata": {},
   "source": [
    "# Question 9: is_palindrome()"
   ]
  },
  {
   "cell_type": "code",
   "execution_count": 113,
   "metadata": {
    "collapsed": false
   },
   "outputs": [
    {
     "data": {
      "text/plain": [
       "True"
      ]
     },
     "execution_count": 113,
     "metadata": {},
     "output_type": "execute_result"
    }
   ],
   "source": [
    "\"\"\"\n",
    "Define a function is_palindrome() that recognizes palindromes. \n",
    "\n",
    "\"\"\"\n",
    "def is_palindrome(test):   \n",
    "    if len(test)==1:\n",
    "        return True\n",
    "    else:\n",
    "        r=test[::-1]   \n",
    "# Make a reversed order of the input test and assign it as r.\n",
    "        for i in range (0, len(test)-1):  \n",
    "# Use for loop and if-else to compare each character of the input with the reversed order test r. If the letter in each position is all the same, return \"true\" to illustrate that the input test belongs to palindrome; otherwise return \"false\". \n",
    "            if(r[i]==test[i]):\n",
    "                  return True\n",
    "            else:\n",
    "                  return False\n",
    "\n",
    "is_palindrome('S')"
   ]
  },
  {
   "cell_type": "code",
   "execution_count": 114,
   "metadata": {
    "collapsed": false
   },
   "outputs": [
    {
     "data": {
      "text/plain": [
       "True"
      ]
     },
     "execution_count": 114,
     "metadata": {},
     "output_type": "execute_result"
    }
   ],
   "source": [
    "is_palindrome('radar')"
   ]
  },
  {
   "cell_type": "code",
   "execution_count": 115,
   "metadata": {
    "collapsed": false
   },
   "outputs": [
    {
     "data": {
      "text/plain": [
       "False"
      ]
     },
     "execution_count": 115,
     "metadata": {},
     "output_type": "execute_result"
    }
   ],
   "source": [
    "is_palindrome(\"python\")"
   ]
  },
  {
   "cell_type": "markdown",
   "metadata": {},
   "source": [
    "# Question 10: is_member()"
   ]
  },
  {
   "cell_type": "code",
   "execution_count": 116,
   "metadata": {
    "collapsed": false
   },
   "outputs": [
    {
     "data": {
      "text/plain": [
       "True"
      ]
     },
     "execution_count": 116,
     "metadata": {},
     "output_type": "execute_result"
    }
   ],
   "source": [
    "\"\"\"\n",
    "Define a function is_member() that takes a value x and a list of values a, \n",
    "and returns True if x is a member of a, False othervise. \n",
    "\n",
    "\"\"\"\n",
    "def is_member(value, list):    \n",
    "    \n",
    "    for i in list:              \n",
    "# Use for loop and if-else to compare the first input element with each element within the list. If any of these values in list equals to the input value, then exit the for loop and output True. Otherwise return False. \n",
    "        if i==value:\n",
    "            return True\n",
    "    else:\n",
    "            return False\n",
    "\n",
    "is_member(4,[1,2,3,4])"
   ]
  },
  {
   "cell_type": "code",
   "execution_count": 117,
   "metadata": {
    "collapsed": false
   },
   "outputs": [
    {
     "data": {
      "text/plain": [
       "False"
      ]
     },
     "execution_count": 117,
     "metadata": {},
     "output_type": "execute_result"
    }
   ],
   "source": [
    "is_member(4,[5,6,7,8])"
   ]
  },
  {
   "cell_type": "code",
   "execution_count": 118,
   "metadata": {
    "collapsed": false
   },
   "outputs": [
    {
     "data": {
      "text/plain": [
       "True"
      ]
     },
     "execution_count": 118,
     "metadata": {},
     "output_type": "execute_result"
    }
   ],
   "source": [
    "is_member('p',\"python\")"
   ]
  },
  {
   "cell_type": "code",
   "execution_count": 119,
   "metadata": {
    "collapsed": false
   },
   "outputs": [
    {
     "data": {
      "text/plain": [
       "False"
      ]
     },
     "execution_count": 119,
     "metadata": {},
     "output_type": "execute_result"
    }
   ],
   "source": [
    "is_member('w','python')"
   ]
  },
  {
   "cell_type": "markdown",
   "metadata": {},
   "source": [
    "# Question 11: overlapping()"
   ]
  },
  {
   "cell_type": "code",
   "execution_count": 120,
   "metadata": {
    "collapsed": false
   },
   "outputs": [
    {
     "data": {
      "text/plain": [
       "True"
      ]
     },
     "execution_count": 120,
     "metadata": {},
     "output_type": "execute_result"
    }
   ],
   "source": [
    "\"\"\"\n",
    "Define a function overlapping() that takes two lists and returns True \n",
    "if they have at least one member in common. False otherwise.\n",
    "\n",
    "\"\"\"\n",
    "def overlapping(list1,list2):     \n",
    "    for i in list1:\n",
    "        for l in list2:          \n",
    "# Use two nested for loops to compare each element within list1 with all the elements in list2. If there is one member in common, return True. If there is no one common member, return False. \n",
    "            if i==l:\n",
    "                return True\n",
    "    else:      \n",
    "         return False\n",
    "\n",
    "overlapping([1,2,3],[3,4,5])"
   ]
  },
  {
   "cell_type": "code",
   "execution_count": 121,
   "metadata": {
    "collapsed": false
   },
   "outputs": [
    {
     "data": {
      "text/plain": [
       "False"
      ]
     },
     "execution_count": 121,
     "metadata": {},
     "output_type": "execute_result"
    }
   ],
   "source": [
    "overlapping([1,2,3],[4,5,6])"
   ]
  },
  {
   "cell_type": "code",
   "execution_count": 122,
   "metadata": {
    "collapsed": false
   },
   "outputs": [
    {
     "data": {
      "text/plain": [
       "True"
      ]
     },
     "execution_count": 122,
     "metadata": {},
     "output_type": "execute_result"
    }
   ],
   "source": [
    "overlapping('python','matlab')"
   ]
  },
  {
   "cell_type": "code",
   "execution_count": 123,
   "metadata": {
    "collapsed": false
   },
   "outputs": [
    {
     "data": {
      "text/plain": [
       "False"
      ]
     },
     "execution_count": 123,
     "metadata": {},
     "output_type": "execute_result"
    }
   ],
   "source": [
    "overlapping('python','r')"
   ]
  },
  {
   "cell_type": "markdown",
   "metadata": {},
   "source": [
    "# Question 12: generate_n_chars()"
   ]
  },
  {
   "cell_type": "code",
   "execution_count": 124,
   "metadata": {
    "collapsed": false
   },
   "outputs": [
    {
     "data": {
      "text/plain": [
       "''"
      ]
     },
     "execution_count": 124,
     "metadata": {},
     "output_type": "execute_result"
    }
   ],
   "source": [
    "\"\"\"\n",
    "Define a function generate_n_chars() that takes an integer n and a \n",
    "character c and returns a string, n characters long, consisting only of c:s\n",
    "\n",
    "\"\"\"\n",
    "def generate_n_chars(length, string):   \n",
    "    if length==0:\n",
    "        return \"\"\n",
    "    while len(string) < length:    \n",
    "# Use the while loop to continue add on strings to the final output. Use string[0] as the index of string because the string only contain one character.\n",
    "        string += string[0]\n",
    "    return (string)\n",
    "\n",
    "\n",
    "generate_n_chars(0,'a')"
   ]
  },
  {
   "cell_type": "code",
   "execution_count": 125,
   "metadata": {
    "collapsed": false
   },
   "outputs": [
    {
     "data": {
      "text/plain": [
       "'AAAAAAAA'"
      ]
     },
     "execution_count": 125,
     "metadata": {},
     "output_type": "execute_result"
    }
   ],
   "source": [
    "generate_n_chars(8,'A')"
   ]
  },
  {
   "cell_type": "code",
   "execution_count": null,
   "metadata": {
    "collapsed": true
   },
   "outputs": [],
   "source": []
  }
 ],
 "metadata": {
  "kernelspec": {
   "display_name": "Python 3",
   "language": "python",
   "name": "python3"
  },
  "language_info": {
   "codemirror_mode": {
    "name": "ipython",
    "version": 3
   },
   "file_extension": ".py",
   "mimetype": "text/x-python",
   "name": "python",
   "nbconvert_exporter": "python",
   "pygments_lexer": "ipython3",
   "version": "3.4.3"
  }
 },
 "nbformat": 4,
 "nbformat_minor": 0
}
