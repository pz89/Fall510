{
 "cells": [
  {
   "cell_type": "markdown",
   "metadata": {},
   "source": [
    "# Question 1"
   ]
  },
  {
   "cell_type": "code",
   "execution_count": 215,
   "metadata": {
    "collapsed": false
   },
   "outputs": [],
   "source": [
    "def histogram(numberlist):    \n",
    "# Define a procedure histogram ()that takes a list of integers and prints a histogram to the screen. \n",
    "    for i in range(len(numberlist)): \n",
    "         print (numberlist[i]*'*')\n",
    "# Use the for loop to select each number within the input numberlist and use the multiplication symbol \"*\" to duplicate the reult i times, where i represents every input number within the numberlist.   "
   ]
  },
  {
   "cell_type": "code",
   "execution_count": 216,
   "metadata": {
    "collapsed": false
   },
   "outputs": [
    {
     "name": "stdout",
     "output_type": "stream",
     "text": [
      "*\n",
      "*****\n",
      "*********\n"
     ]
    }
   ],
   "source": [
    "histogram([1,5,9])"
   ]
  },
  {
   "cell_type": "markdown",
   "metadata": {},
   "source": [
    "# Question 2"
   ]
  },
  {
   "cell_type": "code",
   "execution_count": 217,
   "metadata": {
    "collapsed": true
   },
   "outputs": [],
   "source": [
    "def max_in_list(numberlist):  \n",
    "# Define a function max_in_list() that takes a list of numbers and returns the largest one.    \n",
    "    max_number = numberlist[0]    \n",
    "# Initialize the first number as the largest number within the numberlist.    \n",
    "    for i in numberlist:          \n",
    "        if i > max_number: \n",
    "            max_number = i \n",
    "# Use the for loop to compare the second number with the first one. Find the larger number and replace the max_number into the new value and so on until all the numbers have been compared.\n",
    "    return max_number"
   ]
  },
  {
   "cell_type": "code",
   "execution_count": 218,
   "metadata": {
    "collapsed": false
   },
   "outputs": [
    {
     "data": {
      "text/plain": [
       "456"
      ]
     },
     "execution_count": 218,
     "metadata": {},
     "output_type": "execute_result"
    }
   ],
   "source": [
    "max_in_list([1,2,45,23,456,35])"
   ]
  },
  {
   "cell_type": "markdown",
   "metadata": {
    "collapsed": true
   },
   "source": [
    "# Question 3"
   ]
  },
  {
   "cell_type": "code",
   "execution_count": 219,
   "metadata": {
    "collapsed": false
   },
   "outputs": [],
   "source": [
    "def map_list_words(*words):\n",
    "# Define a function map_list_words () that maps a list of words into a list of integers representing the lengths of the corresponding words.\n",
    "    length=[]\n",
    "    for i in words:          \n",
    "        length.append(len(i)) \n",
    "# Use the append command to append the passed objects into the list which are the number of characters.    \n",
    "    return length\n"
   ]
  },
  {
   "cell_type": "code",
   "execution_count": 220,
   "metadata": {
    "collapsed": false
   },
   "outputs": [
    {
     "data": {
      "text/plain": [
       "[3, 1, 6]"
      ]
     },
     "execution_count": 220,
     "metadata": {},
     "output_type": "execute_result"
    }
   ],
   "source": [
    "map_list_words('sas','r','python')"
   ]
  },
  {
   "cell_type": "markdown",
   "metadata": {},
   "source": [
    "# Question 4 "
   ]
  },
  {
   "cell_type": "code",
   "execution_count": 221,
   "metadata": {
    "collapsed": true
   },
   "outputs": [],
   "source": [
    "def map_list_words(*words): \n",
    "    length = []    \n",
    "    for i in words:\n",
    "        length.append(len(i)) \n",
    "    return length\n",
    "\n",
    "def find_longest_word(*words):   \n",
    "# Define a function find_longest_word() that takes a list of words and returns the length of the longest one.    \n",
    "    return max(map_list_words(*words))   \n",
    "# Use the previous function and code. After representing all the lengths of the corresponding words, use the max command to find the largest one. "
   ]
  },
  {
   "cell_type": "code",
   "execution_count": 222,
   "metadata": {
    "collapsed": false
   },
   "outputs": [
    {
     "data": {
      "text/plain": [
       "6"
      ]
     },
     "execution_count": 222,
     "metadata": {},
     "output_type": "execute_result"
    }
   ],
   "source": [
    "find_longest_word('sas','r','python')"
   ]
  },
  {
   "cell_type": "markdown",
   "metadata": {},
   "source": [
    "# Question 5"
   ]
  },
  {
   "cell_type": "code",
   "execution_count": 223,
   "metadata": {
    "collapsed": false
   },
   "outputs": [],
   "source": [
    "def filter_long_words(wordlist, n):\n",
    "# Define a function filter_long_word() that takes a list of words and an integer n and returns the list of words that are longer than n. \n",
    "    longword = []\n",
    "# Initalize the variable longword to a blank space\n",
    "    for i in range(len(wordlist)):\n",
    "        if len(wordlist[i]) > n:\n",
    "            longword.append(wordlist[i])\n",
    "# Use the for loop to generate the length of each word with the input and compare them with input n; select all the words which length are greater than n. \n",
    "    print (longword)\n",
    "  "
   ]
  },
  {
   "cell_type": "code",
   "execution_count": 224,
   "metadata": {
    "collapsed": false
   },
   "outputs": [
    {
     "name": "stdout",
     "output_type": "stream",
     "text": [
      "['sas', 'python']\n"
     ]
    }
   ],
   "source": [
    "filter_long_words(('sas','r','python'),2)"
   ]
  },
  {
   "cell_type": "markdown",
   "metadata": {},
   "source": [
    "# Question 6"
   ]
  },
  {
   "cell_type": "code",
   "execution_count": 225,
   "metadata": {
    "collapsed": true
   },
   "outputs": [],
   "source": [
    "def pali_recognizer(sentence):           # Define a function pali_recognizer() to accept phrase palindromes that usually ignore punctuation, capitalization and spacing. \n",
    "    i=[q for q in sentence.lower() if q.isalpha()]  # To ignore the punctuation and spacing, using the isalpha() method to select only characters from the string.\n",
    "    reverse=i[::-1] # To ignore the capitalization, use the lower() method to change all the capital characters into lowercase.\n",
    "    if i==reverse:  # After excluding all these unique situations, assign a variable 'reverse' to reverse the sentence. Make a comparison between 'reverse' and 'i'. Print 'true' if they are the same; otherwise print 'false'. \n",
    "        print('True')\n",
    "    else:\n",
    "        print('False')"
   ]
  },
  {
   "cell_type": "code",
   "execution_count": 226,
   "metadata": {
    "collapsed": false
   },
   "outputs": [
    {
     "name": "stdout",
     "output_type": "stream",
     "text": [
      "True\n"
     ]
    }
   ],
   "source": [
    "pali_recognizer('Was it a rat I saw?')"
   ]
  },
  {
   "cell_type": "code",
   "execution_count": 227,
   "metadata": {
    "collapsed": false
   },
   "outputs": [
    {
     "name": "stdout",
     "output_type": "stream",
     "text": [
      "False\n"
     ]
    }
   ],
   "source": [
    "pali_recognizer('I am a boy')"
   ]
  },
  {
   "cell_type": "markdown",
   "metadata": {},
   "source": [
    "# Question 7"
   ]
  },
  {
   "cell_type": "code",
   "execution_count": 228,
   "metadata": {
    "collapsed": false
   },
   "outputs": [],
   "source": [
    "def pangram(sentence):         # Define a function pangram that recognize a sentence that contains all the letters of the English alphabet at least once. \n",
    "    x = 0      # Initialize x as zero\n",
    "    alphabet = \"abcdefghijklmnopqrstuvwxyz\" # List all the 26 alphabet letters\n",
    "    Letters = \"\"  # Initialize the Letters as the blank space\n",
    "    for i in sentence:           # Use the first for loop to determine whether each letter within the sentence is in the 26 alphabet letters. \n",
    "        for l in alphabet:\n",
    "            if i == l and i not in Letters :  # If so, add all the letters to the blank space Letters. Use and...not command to guarantee every added letter is not repeated.\n",
    "                Letters += i\n",
    "    for i in Letters:     # Use the second for loop to count the number of letters within 'Letters'. Even though there might has more than 26 letters in the sentence, we only count each letter once.\n",
    "        for l in alphabet:\n",
    "            if i == l:\n",
    "                x += 1\n",
    "    if x == 26:            # Add all the different alphabet letters together, if the total number equals to 26, return true showing that the sentence belongs to pangram; otherwise return false.\n",
    "        return True\n",
    "    else:\n",
    "        return False"
   ]
  },
  {
   "cell_type": "code",
   "execution_count": 229,
   "metadata": {
    "collapsed": false
   },
   "outputs": [
    {
     "data": {
      "text/plain": [
       "True"
      ]
     },
     "execution_count": 229,
     "metadata": {},
     "output_type": "execute_result"
    }
   ],
   "source": [
    "pangram('The quick brown fox jumps over the lazy dog')"
   ]
  },
  {
   "cell_type": "code",
   "execution_count": 230,
   "metadata": {
    "collapsed": false
   },
   "outputs": [
    {
     "data": {
      "text/plain": [
       "False"
      ]
     },
     "execution_count": 230,
     "metadata": {},
     "output_type": "execute_result"
    }
   ],
   "source": [
    "pangram('I am a boy')"
   ]
  },
  {
   "cell_type": "markdown",
   "metadata": {},
   "source": [
    "# Question 8"
   ]
  },
  {
   "cell_type": "code",
   "execution_count": 231,
   "metadata": {
    "collapsed": false
   },
   "outputs": [],
   "source": [
    "def lyrics(x):    # Define a function lyrics() to generate all the verses of the song\n",
    "    for i in range(x,0,-1):    # Substitute all the integers that appear within the lyrics several time by the reverse order from the input x to 1. \n",
    "        print('%d bottles of coke on the wall, %d bottles of coke.\\n'\\\n",
    "              'Take one down, pass it around, %d bottles of coke on the wall.'%(i,i,i-1))"
   ]
  },
  {
   "cell_type": "code",
   "execution_count": 232,
   "metadata": {
    "collapsed": false
   },
   "outputs": [
    {
     "name": "stdout",
     "output_type": "stream",
     "text": [
      "99 bottles of coke on the wall, 99 bottles of coke.\n",
      "Take one down, pass it around, 98 bottles of coke on the wall.\n",
      "98 bottles of coke on the wall, 98 bottles of coke.\n",
      "Take one down, pass it around, 97 bottles of coke on the wall.\n",
      "97 bottles of coke on the wall, 97 bottles of coke.\n",
      "Take one down, pass it around, 96 bottles of coke on the wall.\n",
      "96 bottles of coke on the wall, 96 bottles of coke.\n",
      "Take one down, pass it around, 95 bottles of coke on the wall.\n",
      "95 bottles of coke on the wall, 95 bottles of coke.\n",
      "Take one down, pass it around, 94 bottles of coke on the wall.\n",
      "94 bottles of coke on the wall, 94 bottles of coke.\n",
      "Take one down, pass it around, 93 bottles of coke on the wall.\n",
      "93 bottles of coke on the wall, 93 bottles of coke.\n",
      "Take one down, pass it around, 92 bottles of coke on the wall.\n",
      "92 bottles of coke on the wall, 92 bottles of coke.\n",
      "Take one down, pass it around, 91 bottles of coke on the wall.\n",
      "91 bottles of coke on the wall, 91 bottles of coke.\n",
      "Take one down, pass it around, 90 bottles of coke on the wall.\n",
      "90 bottles of coke on the wall, 90 bottles of coke.\n",
      "Take one down, pass it around, 89 bottles of coke on the wall.\n",
      "89 bottles of coke on the wall, 89 bottles of coke.\n",
      "Take one down, pass it around, 88 bottles of coke on the wall.\n",
      "88 bottles of coke on the wall, 88 bottles of coke.\n",
      "Take one down, pass it around, 87 bottles of coke on the wall.\n",
      "87 bottles of coke on the wall, 87 bottles of coke.\n",
      "Take one down, pass it around, 86 bottles of coke on the wall.\n",
      "86 bottles of coke on the wall, 86 bottles of coke.\n",
      "Take one down, pass it around, 85 bottles of coke on the wall.\n",
      "85 bottles of coke on the wall, 85 bottles of coke.\n",
      "Take one down, pass it around, 84 bottles of coke on the wall.\n",
      "84 bottles of coke on the wall, 84 bottles of coke.\n",
      "Take one down, pass it around, 83 bottles of coke on the wall.\n",
      "83 bottles of coke on the wall, 83 bottles of coke.\n",
      "Take one down, pass it around, 82 bottles of coke on the wall.\n",
      "82 bottles of coke on the wall, 82 bottles of coke.\n",
      "Take one down, pass it around, 81 bottles of coke on the wall.\n",
      "81 bottles of coke on the wall, 81 bottles of coke.\n",
      "Take one down, pass it around, 80 bottles of coke on the wall.\n",
      "80 bottles of coke on the wall, 80 bottles of coke.\n",
      "Take one down, pass it around, 79 bottles of coke on the wall.\n",
      "79 bottles of coke on the wall, 79 bottles of coke.\n",
      "Take one down, pass it around, 78 bottles of coke on the wall.\n",
      "78 bottles of coke on the wall, 78 bottles of coke.\n",
      "Take one down, pass it around, 77 bottles of coke on the wall.\n",
      "77 bottles of coke on the wall, 77 bottles of coke.\n",
      "Take one down, pass it around, 76 bottles of coke on the wall.\n",
      "76 bottles of coke on the wall, 76 bottles of coke.\n",
      "Take one down, pass it around, 75 bottles of coke on the wall.\n",
      "75 bottles of coke on the wall, 75 bottles of coke.\n",
      "Take one down, pass it around, 74 bottles of coke on the wall.\n",
      "74 bottles of coke on the wall, 74 bottles of coke.\n",
      "Take one down, pass it around, 73 bottles of coke on the wall.\n",
      "73 bottles of coke on the wall, 73 bottles of coke.\n",
      "Take one down, pass it around, 72 bottles of coke on the wall.\n",
      "72 bottles of coke on the wall, 72 bottles of coke.\n",
      "Take one down, pass it around, 71 bottles of coke on the wall.\n",
      "71 bottles of coke on the wall, 71 bottles of coke.\n",
      "Take one down, pass it around, 70 bottles of coke on the wall.\n",
      "70 bottles of coke on the wall, 70 bottles of coke.\n",
      "Take one down, pass it around, 69 bottles of coke on the wall.\n",
      "69 bottles of coke on the wall, 69 bottles of coke.\n",
      "Take one down, pass it around, 68 bottles of coke on the wall.\n",
      "68 bottles of coke on the wall, 68 bottles of coke.\n",
      "Take one down, pass it around, 67 bottles of coke on the wall.\n",
      "67 bottles of coke on the wall, 67 bottles of coke.\n",
      "Take one down, pass it around, 66 bottles of coke on the wall.\n",
      "66 bottles of coke on the wall, 66 bottles of coke.\n",
      "Take one down, pass it around, 65 bottles of coke on the wall.\n",
      "65 bottles of coke on the wall, 65 bottles of coke.\n",
      "Take one down, pass it around, 64 bottles of coke on the wall.\n",
      "64 bottles of coke on the wall, 64 bottles of coke.\n",
      "Take one down, pass it around, 63 bottles of coke on the wall.\n",
      "63 bottles of coke on the wall, 63 bottles of coke.\n",
      "Take one down, pass it around, 62 bottles of coke on the wall.\n",
      "62 bottles of coke on the wall, 62 bottles of coke.\n",
      "Take one down, pass it around, 61 bottles of coke on the wall.\n",
      "61 bottles of coke on the wall, 61 bottles of coke.\n",
      "Take one down, pass it around, 60 bottles of coke on the wall.\n",
      "60 bottles of coke on the wall, 60 bottles of coke.\n",
      "Take one down, pass it around, 59 bottles of coke on the wall.\n",
      "59 bottles of coke on the wall, 59 bottles of coke.\n",
      "Take one down, pass it around, 58 bottles of coke on the wall.\n",
      "58 bottles of coke on the wall, 58 bottles of coke.\n",
      "Take one down, pass it around, 57 bottles of coke on the wall.\n",
      "57 bottles of coke on the wall, 57 bottles of coke.\n",
      "Take one down, pass it around, 56 bottles of coke on the wall.\n",
      "56 bottles of coke on the wall, 56 bottles of coke.\n",
      "Take one down, pass it around, 55 bottles of coke on the wall.\n",
      "55 bottles of coke on the wall, 55 bottles of coke.\n",
      "Take one down, pass it around, 54 bottles of coke on the wall.\n",
      "54 bottles of coke on the wall, 54 bottles of coke.\n",
      "Take one down, pass it around, 53 bottles of coke on the wall.\n",
      "53 bottles of coke on the wall, 53 bottles of coke.\n",
      "Take one down, pass it around, 52 bottles of coke on the wall.\n",
      "52 bottles of coke on the wall, 52 bottles of coke.\n",
      "Take one down, pass it around, 51 bottles of coke on the wall.\n",
      "51 bottles of coke on the wall, 51 bottles of coke.\n",
      "Take one down, pass it around, 50 bottles of coke on the wall.\n",
      "50 bottles of coke on the wall, 50 bottles of coke.\n",
      "Take one down, pass it around, 49 bottles of coke on the wall.\n",
      "49 bottles of coke on the wall, 49 bottles of coke.\n",
      "Take one down, pass it around, 48 bottles of coke on the wall.\n",
      "48 bottles of coke on the wall, 48 bottles of coke.\n",
      "Take one down, pass it around, 47 bottles of coke on the wall.\n",
      "47 bottles of coke on the wall, 47 bottles of coke.\n",
      "Take one down, pass it around, 46 bottles of coke on the wall.\n",
      "46 bottles of coke on the wall, 46 bottles of coke.\n",
      "Take one down, pass it around, 45 bottles of coke on the wall.\n",
      "45 bottles of coke on the wall, 45 bottles of coke.\n",
      "Take one down, pass it around, 44 bottles of coke on the wall.\n",
      "44 bottles of coke on the wall, 44 bottles of coke.\n",
      "Take one down, pass it around, 43 bottles of coke on the wall.\n",
      "43 bottles of coke on the wall, 43 bottles of coke.\n",
      "Take one down, pass it around, 42 bottles of coke on the wall.\n",
      "42 bottles of coke on the wall, 42 bottles of coke.\n",
      "Take one down, pass it around, 41 bottles of coke on the wall.\n",
      "41 bottles of coke on the wall, 41 bottles of coke.\n",
      "Take one down, pass it around, 40 bottles of coke on the wall.\n",
      "40 bottles of coke on the wall, 40 bottles of coke.\n",
      "Take one down, pass it around, 39 bottles of coke on the wall.\n",
      "39 bottles of coke on the wall, 39 bottles of coke.\n",
      "Take one down, pass it around, 38 bottles of coke on the wall.\n",
      "38 bottles of coke on the wall, 38 bottles of coke.\n",
      "Take one down, pass it around, 37 bottles of coke on the wall.\n",
      "37 bottles of coke on the wall, 37 bottles of coke.\n",
      "Take one down, pass it around, 36 bottles of coke on the wall.\n",
      "36 bottles of coke on the wall, 36 bottles of coke.\n",
      "Take one down, pass it around, 35 bottles of coke on the wall.\n",
      "35 bottles of coke on the wall, 35 bottles of coke.\n",
      "Take one down, pass it around, 34 bottles of coke on the wall.\n",
      "34 bottles of coke on the wall, 34 bottles of coke.\n",
      "Take one down, pass it around, 33 bottles of coke on the wall.\n",
      "33 bottles of coke on the wall, 33 bottles of coke.\n",
      "Take one down, pass it around, 32 bottles of coke on the wall.\n",
      "32 bottles of coke on the wall, 32 bottles of coke.\n",
      "Take one down, pass it around, 31 bottles of coke on the wall.\n",
      "31 bottles of coke on the wall, 31 bottles of coke.\n",
      "Take one down, pass it around, 30 bottles of coke on the wall.\n",
      "30 bottles of coke on the wall, 30 bottles of coke.\n",
      "Take one down, pass it around, 29 bottles of coke on the wall.\n",
      "29 bottles of coke on the wall, 29 bottles of coke.\n",
      "Take one down, pass it around, 28 bottles of coke on the wall.\n",
      "28 bottles of coke on the wall, 28 bottles of coke.\n",
      "Take one down, pass it around, 27 bottles of coke on the wall.\n",
      "27 bottles of coke on the wall, 27 bottles of coke.\n",
      "Take one down, pass it around, 26 bottles of coke on the wall.\n",
      "26 bottles of coke on the wall, 26 bottles of coke.\n",
      "Take one down, pass it around, 25 bottles of coke on the wall.\n",
      "25 bottles of coke on the wall, 25 bottles of coke.\n",
      "Take one down, pass it around, 24 bottles of coke on the wall.\n",
      "24 bottles of coke on the wall, 24 bottles of coke.\n",
      "Take one down, pass it around, 23 bottles of coke on the wall.\n",
      "23 bottles of coke on the wall, 23 bottles of coke.\n",
      "Take one down, pass it around, 22 bottles of coke on the wall.\n",
      "22 bottles of coke on the wall, 22 bottles of coke.\n",
      "Take one down, pass it around, 21 bottles of coke on the wall.\n",
      "21 bottles of coke on the wall, 21 bottles of coke.\n",
      "Take one down, pass it around, 20 bottles of coke on the wall.\n",
      "20 bottles of coke on the wall, 20 bottles of coke.\n",
      "Take one down, pass it around, 19 bottles of coke on the wall.\n",
      "19 bottles of coke on the wall, 19 bottles of coke.\n",
      "Take one down, pass it around, 18 bottles of coke on the wall.\n",
      "18 bottles of coke on the wall, 18 bottles of coke.\n",
      "Take one down, pass it around, 17 bottles of coke on the wall.\n",
      "17 bottles of coke on the wall, 17 bottles of coke.\n",
      "Take one down, pass it around, 16 bottles of coke on the wall.\n",
      "16 bottles of coke on the wall, 16 bottles of coke.\n",
      "Take one down, pass it around, 15 bottles of coke on the wall.\n",
      "15 bottles of coke on the wall, 15 bottles of coke.\n",
      "Take one down, pass it around, 14 bottles of coke on the wall.\n",
      "14 bottles of coke on the wall, 14 bottles of coke.\n",
      "Take one down, pass it around, 13 bottles of coke on the wall.\n",
      "13 bottles of coke on the wall, 13 bottles of coke.\n",
      "Take one down, pass it around, 12 bottles of coke on the wall.\n",
      "12 bottles of coke on the wall, 12 bottles of coke.\n",
      "Take one down, pass it around, 11 bottles of coke on the wall.\n",
      "11 bottles of coke on the wall, 11 bottles of coke.\n",
      "Take one down, pass it around, 10 bottles of coke on the wall.\n",
      "10 bottles of coke on the wall, 10 bottles of coke.\n",
      "Take one down, pass it around, 9 bottles of coke on the wall.\n",
      "9 bottles of coke on the wall, 9 bottles of coke.\n",
      "Take one down, pass it around, 8 bottles of coke on the wall.\n",
      "8 bottles of coke on the wall, 8 bottles of coke.\n",
      "Take one down, pass it around, 7 bottles of coke on the wall.\n",
      "7 bottles of coke on the wall, 7 bottles of coke.\n",
      "Take one down, pass it around, 6 bottles of coke on the wall.\n",
      "6 bottles of coke on the wall, 6 bottles of coke.\n",
      "Take one down, pass it around, 5 bottles of coke on the wall.\n",
      "5 bottles of coke on the wall, 5 bottles of coke.\n",
      "Take one down, pass it around, 4 bottles of coke on the wall.\n",
      "4 bottles of coke on the wall, 4 bottles of coke.\n",
      "Take one down, pass it around, 3 bottles of coke on the wall.\n",
      "3 bottles of coke on the wall, 3 bottles of coke.\n",
      "Take one down, pass it around, 2 bottles of coke on the wall.\n",
      "2 bottles of coke on the wall, 2 bottles of coke.\n",
      "Take one down, pass it around, 1 bottles of coke on the wall.\n",
      "1 bottles of coke on the wall, 1 bottles of coke.\n",
      "Take one down, pass it around, 0 bottles of coke on the wall.\n"
     ]
    }
   ],
   "source": [
    "lyrics(99)"
   ]
  },
  {
   "cell_type": "markdown",
   "metadata": {},
   "source": [
    "# Question 9"
   ]
  },
  {
   "cell_type": "code",
   "execution_count": 234,
   "metadata": {
    "collapsed": false
   },
   "outputs": [],
   "source": [
    "def translate(*words):  # Define a function translate that takes a list of English words into Swedish.\n",
    "    Wordlist = {\"merry\": \"god\", \"christmas\": \"jul\", \"and\": \"och\", \"happy\": \"gott\", \"new\": \"nytt\", \"year\": \"ar\"}\n",
    "    return [Wordlist[i] for i in words]  # Select every Swedish words that want to be output wihtin the wordlist based on the corresponding input English words."
   ]
  },
  {
   "cell_type": "code",
   "execution_count": 235,
   "metadata": {
    "collapsed": false
   },
   "outputs": [
    {
     "data": {
      "text/plain": [
       "['god', 'jul', 'och', 'gott', 'nytt', 'ar']"
      ]
     },
     "execution_count": 235,
     "metadata": {},
     "output_type": "execute_result"
    }
   ],
   "source": [
    "translate('merry','christmas','and','happy','new','year')"
   ]
  },
  {
   "cell_type": "markdown",
   "metadata": {},
   "source": [
    "# Question 10"
   ]
  },
  {
   "cell_type": "code",
   "execution_count": 236,
   "metadata": {
    "collapsed": true
   },
   "outputs": [],
   "source": [
    "def char_freq(string):           # Define a function char_char() that takes a string and builds a frequency listing of the characters contained in it. \n",
    "    frequency = {x: 0 for x in string}   # Initialize the frequency of all the characters within the string to zero\n",
    "    for i in string:        # use the for loop to count each of the character within the string if they appear more than once.\n",
    "        frequency[i] += 1\n",
    "    return frequency"
   ]
  },
  {
   "cell_type": "code",
   "execution_count": 237,
   "metadata": {
    "collapsed": false
   },
   "outputs": [
    {
     "data": {
      "text/plain": [
       "{'a': 10, 'b': 15, 'c': 5}"
      ]
     },
     "execution_count": 237,
     "metadata": {},
     "output_type": "execute_result"
    }
   ],
   "source": [
    "char_freq('abbbbabbbcaaaabbcbabcbabcabacb')"
   ]
  },
  {
   "cell_type": "markdown",
   "metadata": {},
   "source": [
    "# Question 11"
   ]
  },
  {
   "cell_type": "code",
   "execution_count": 238,
   "metadata": {
    "collapsed": true
   },
   "outputs": [],
   "source": [
    "def en_decode_ROT13(message):    # Define a function en_decode_ROT13() to implement an encoder/decoder of ROT-13.\n",
    "    x=\"\"\n",
    "    dictionary = {'a':'n', 'b':'o', 'c':'p', 'd':'q', 'e':'r', 'f':'s', 'g':'t', 'h':'u', \n",
    "       'i':'v', 'j':'w', 'k':'x', 'l':'y', 'm':'z', 'n':'a', 'o':'b', 'p':'c', \n",
    "       'q':'d', 'r':'e', 's':'f', 't':'g', 'u':'h', 'v':'i', 'w':'j', 'x':'k',\n",
    "       'y':'l', 'z':'m', 'A':'N', 'B':'O', 'C':'P', 'D':'Q', 'E':'R', 'F':'S', \n",
    "       'G':'T', 'H':'U', 'I':'V', 'J':'W', 'K':'X', 'L':'Y', 'M':'Z', 'N':'A', \n",
    "       'O':'B', 'P':'C', 'Q':'D', 'R':'E', 'S':'F', 'T':'G', 'U':'H', 'V':'I', \n",
    "       'W':'J', 'X':'K', 'Y':'L', 'Z':'M'}     # Set a ROT-13 dictionary\n",
    "    for i in message:\n",
    "        q = i in dictionary.keys()    # Use the for loop to select each character within the message and find their corresponding ROT-13 letters. \n",
    "        if q==True:\n",
    "            x+=(dictionary[i])      # Keep adding these new defined characters to the blank space 'x'.\n",
    "        else:\n",
    "            x+=i        # If the character cannot find in the dictionary (like the question mark), then put it directly to 'x'\n",
    "    return x     # Output the final result. "
   ]
  },
  {
   "cell_type": "code",
   "execution_count": 239,
   "metadata": {
    "collapsed": false
   },
   "outputs": [
    {
     "data": {
      "text/plain": [
       "'Caesar cipher? I much prefer Caesar salad!'"
      ]
     },
     "execution_count": 239,
     "metadata": {},
     "output_type": "execute_result"
    }
   ],
   "source": [
    "en_decode_ROT13('Pnrfne pvcure? V zhpu cersre Pnrfne fnynq!')"
   ]
  },
  {
   "cell_type": "markdown",
   "metadata": {},
   "source": [
    "# Question 12"
   ]
  },
  {
   "cell_type": "code",
   "execution_count": 240,
   "metadata": {
    "collapsed": true
   },
   "outputs": [],
   "source": [
    "import re   # Import regular expression syntax\n",
    "\n",
    "def correct(sentence):  # Define a function correct() that takes a string and sees to it that can correct two conditions. \n",
    "    sentence = re.sub(r'[.]([a-zA-Z])', r'. \\1', sentence)  # use the substitution command to recognize a pattern of period directly followed by letter, then insert an extra space after the period. \n",
    "    sentence = re.sub(r'( )+', r'\\1', sentence) # use the substitution command to recongize the pattern of the occurrances of two or more space characters; if so, compressed them into one.\n",
    "    return sentence"
   ]
  },
  {
   "cell_type": "code",
   "execution_count": 241,
   "metadata": {
    "collapsed": false
   },
   "outputs": [
    {
     "data": {
      "text/plain": [
       "'This is very funny and cool. Indeed!'"
      ]
     },
     "execution_count": 241,
     "metadata": {},
     "output_type": "execute_result"
    }
   ],
   "source": [
    "correct('This  is very funny and  cool.Indeed!')"
   ]
  },
  {
   "cell_type": "markdown",
   "metadata": {},
   "source": [
    "# Question 13"
   ]
  },
  {
   "cell_type": "code",
   "execution_count": 242,
   "metadata": {
    "collapsed": true
   },
   "outputs": [],
   "source": [
    "import re   # Import the regular expression syntax\n",
    "\n",
    "def make_3sg_form(word):           # Define a function make_3sg_form() which given a verb in infinitive form returns its third person singular form. \n",
    "    i = ('o', 'ch', 's', 'sh', 'x', 'z')  # Classify if the verb ends in o, ch, s, sh, x or z add 'es'\n",
    "    if word.endswith('y'):           # Use the string endswith() method to test if the input verb ended with letter y, if so replace it with the words ies.\n",
    "        return re.sub('y$', 'ies', word)\n",
    "    elif word.endswith(i):   # Use if, else-if and else command to discuss other situations that if the input verb ends with letters included within'i', then add 'es'; othervise, add 's' directly. \n",
    "        return word + 'es'\n",
    "    else:\n",
    "        return word + 's'"
   ]
  },
  {
   "cell_type": "code",
   "execution_count": 243,
   "metadata": {
    "collapsed": false
   },
   "outputs": [
    {
     "data": {
      "text/plain": [
       "'tries'"
      ]
     },
     "execution_count": 243,
     "metadata": {},
     "output_type": "execute_result"
    }
   ],
   "source": [
    "make_3sg_form('try')"
   ]
  },
  {
   "cell_type": "code",
   "execution_count": 244,
   "metadata": {
    "collapsed": false
   },
   "outputs": [
    {
     "data": {
      "text/plain": [
       "'brushes'"
      ]
     },
     "execution_count": 244,
     "metadata": {},
     "output_type": "execute_result"
    }
   ],
   "source": [
    "make_3sg_form('brush')"
   ]
  },
  {
   "cell_type": "code",
   "execution_count": 245,
   "metadata": {
    "collapsed": false
   },
   "outputs": [
    {
     "data": {
      "text/plain": [
       "'runs'"
      ]
     },
     "execution_count": 245,
     "metadata": {},
     "output_type": "execute_result"
    }
   ],
   "source": [
    "make_3sg_form('run')"
   ]
  },
  {
   "cell_type": "code",
   "execution_count": 246,
   "metadata": {
    "collapsed": false
   },
   "outputs": [
    {
     "data": {
      "text/plain": [
       "'fixes'"
      ]
     },
     "execution_count": 246,
     "metadata": {},
     "output_type": "execute_result"
    }
   ],
   "source": [
    "make_3sg_form('fix')"
   ]
  },
  {
   "cell_type": "markdown",
   "metadata": {},
   "source": [
    "# Question 14"
   ]
  },
  {
   "cell_type": "code",
   "execution_count": 247,
   "metadata": {
    "collapsed": true
   },
   "outputs": [],
   "source": [
    "def get_vowel(letter):           # Define a function ger_vowel that judging the input letter is a vowel or not.\n",
    "    vowels = ('a', 'e', 'i', 'o', 'u')\n",
    "    if letter in vowels:\n",
    "        return True\n",
    "    return False\n",
    "\n",
    "\n",
    "def make_ing_form(verb): # Define a function make_ing_form which gives a verb in infinitive form returns its present participle form. \n",
    "    if verb.endswith('e') and (verb[-2].endswith('e') or len(verb) == 2):\n",
    "        return verb + 'ing'  #  Select some unique verbs such as be.see.flee and knee; these verbs add 'ing' directly.\n",
    "    elif verb.endswith('ie'):\n",
    "        return verb[:-2] + 'ying'# Select the verbs that end in ie, then replace it with 'ying'\n",
    "    elif verb.endswith('e'):\n",
    "        return verb[:-1] + 'ing'# Select the verbs that end in e, then replace it with'ing'\n",
    "    elif not get_vowel(verb[-1]) and get_vowel(verb[-2]) and not get_vowel(verb[-3]):\n",
    "        return verb + verb[-1] + 'ing' # By using the first defined function get_vowel () to select the verb which the last three letters are consonant-vowwel-consonant, then double the final letter and adding 'ing'. \n",
    "    else:                # For other situations, add 'ing' directly after the verb. \n",
    "        return verb + 'ing'"
   ]
  },
  {
   "cell_type": "code",
   "execution_count": 248,
   "metadata": {
    "collapsed": false
   },
   "outputs": [
    {
     "data": {
      "text/plain": [
       "'lying'"
      ]
     },
     "execution_count": 248,
     "metadata": {},
     "output_type": "execute_result"
    }
   ],
   "source": [
    "make_ing_form('lie')"
   ]
  },
  {
   "cell_type": "code",
   "execution_count": 249,
   "metadata": {
    "collapsed": false
   },
   "outputs": [
    {
     "data": {
      "text/plain": [
       "'seeing'"
      ]
     },
     "execution_count": 249,
     "metadata": {},
     "output_type": "execute_result"
    }
   ],
   "source": [
    "make_ing_form('see')"
   ]
  },
  {
   "cell_type": "code",
   "execution_count": 250,
   "metadata": {
    "collapsed": false
   },
   "outputs": [
    {
     "data": {
      "text/plain": [
       "'moving'"
      ]
     },
     "execution_count": 250,
     "metadata": {},
     "output_type": "execute_result"
    }
   ],
   "source": [
    "make_ing_form('move')"
   ]
  },
  {
   "cell_type": "code",
   "execution_count": 251,
   "metadata": {
    "collapsed": false
   },
   "outputs": [
    {
     "data": {
      "text/plain": [
       "'hugging'"
      ]
     },
     "execution_count": 251,
     "metadata": {},
     "output_type": "execute_result"
    }
   ],
   "source": [
    "make_ing_form('hug')"
   ]
  },
  {
   "cell_type": "code",
   "execution_count": null,
   "metadata": {
    "collapsed": true
   },
   "outputs": [],
   "source": []
  }
 ],
 "metadata": {
  "kernelspec": {
   "display_name": "Python 3",
   "language": "python",
   "name": "python3"
  },
  "language_info": {
   "codemirror_mode": {
    "name": "ipython",
    "version": 3
   },
   "file_extension": ".py",
   "mimetype": "text/x-python",
   "name": "python",
   "nbconvert_exporter": "python",
   "pygments_lexer": "ipython3",
   "version": "3.4.3"
  }
 },
 "nbformat": 4,
 "nbformat_minor": 0
}
