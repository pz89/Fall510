{
 "cells": [
  {
   "cell_type": "markdown",
   "metadata": {
    "collapsed": false
   },
   "source": [
    "# Question 1: Python(polygperim())"
   ]
  },
  {
   "cell_type": "code",
   "execution_count": 22,
   "metadata": {
    "collapsed": false
   },
   "outputs": [
    {
     "name": "stdout",
     "output_type": "stream",
     "text": [
      "36.0\n"
     ]
    }
   ],
   "source": [
    "'''\n",
    "Define a function polygperim() that compute the perimeter of the polygon.\n",
    "Let coords be a vector of x,y pairs that describe the vertices of a polygon given in order.\n",
    "\n",
    "'''\n",
    "def polygperim(coords):\n",
    "    sides=((coords[0][0]-coords[0][len(coords[0])-1])**2+(coords[1][0]-coords[1][len(coords[0])-1])**2)**(1/2)\n",
    "# In order to get the polygperim for a certain input polygon coordinates, we should calculate the length of each side of the polygon and add \n",
    "# them all together. For each side,I will use the Pythagorean theorem to calculate which is c^2=a^2+b^2; c=the square root of a^2 \n",
    "# plus b^2. First, we should clearly understand that the input value contains two strings. The first one is all the coordinates\n",
    "# of x and the second one contains all the coordinates of y. Because the number of points that we input can be any numbers, thus\n",
    "# we need a for loop to calculate all these sides' length. In order to normally operate the for loop, we need to firstly connect the first\n",
    "# and last point together. To calculate the length of the first side, use the command coords[0][0] to select the x coordinate of\n",
    "# the first point. Then use the command coords[0][len(coords[0])-1] to select the x coordinate of the last point. For the same \n",
    "# process we can get the y coordinates of both the first and last point. Next we use the subtraction to find the a and b. In order\n",
    "# to find the side length c, just use the Pythagorean theorem c=the square root of a^2 plus b^2. Assign the length of the first \n",
    "# side to a variable named sides (the symbol for the subtraction result is not necessary because when we square the result, we will get a positive \n",
    "# outcome).\n",
    "    for x in range ((len(coords[0])-1)):\n",
    "        sides+=((coords[0][x]-coords[0][x+1])**2+(coords[1][x]-coords[1][x+1])**2)**(1/2)\n",
    "# After the first side length has calculated, we just need to generalize the function by using the for loop to calculate all the\n",
    "# remaining sides length. In this case, we have to calculate the length of each side by using the adjacent points' x and y \n",
    "# coordinates. Still using the same Pythagorean theorem to compute the length and add the result to the original variable named\n",
    "# sides. If we input four points, then x should be 0,1,2,3 in this case, which means that the for loop will calculate the side lengths\n",
    "# connecting the first and second points, second and third points, third and fourth points. Notice that there is no duplicate to the fourth \n",
    "# and first points because we had already computed it before the for loop and the for loop can not compute this for us.\n",
    "    print(sides)\n",
    "# Print the final result of the variable named sides which is also the perimeter of the polygon. \n",
    "        \n",
    "        \n",
    "\n",
    "polygperim(([1,10,10,1],[1,1,10,10])) # A square with the side length of nine. "
   ]
  },
  {
   "cell_type": "code",
   "execution_count": 23,
   "metadata": {
    "collapsed": false
   },
   "outputs": [
    {
     "name": "stdout",
     "output_type": "stream",
     "text": [
      "6.0\n"
     ]
    }
   ],
   "source": [
    "polygperim(([-3,-1,-2],[1,1,1+3**(1/2)])) # An equilateral triangle with the side length of two. "
   ]
  },
  {
   "cell_type": "code",
   "execution_count": 24,
   "metadata": {
    "collapsed": false
   },
   "outputs": [
    {
     "name": "stdout",
     "output_type": "stream",
     "text": [
      "112.99193664092155\n"
     ]
    }
   ],
   "source": [
    "polygperim(([2.3,4.9,-6,-23],[-7.8,-9,34,-2])) # An arbitrary polygon"
   ]
  },
  {
   "cell_type": "markdown",
   "metadata": {},
   "source": [
    "# Question 1: Python(polygarea())"
   ]
  },
  {
   "cell_type": "code",
   "execution_count": 25,
   "metadata": {
    "collapsed": false
   },
   "outputs": [
    {
     "name": "stdout",
     "output_type": "stream",
     "text": [
      "16.0\n"
     ]
    }
   ],
   "source": [
    "\"\"\"\n",
    "Define a function polygarea() that compute the area of the polygon. For the area, use the formula based on the Green theorem, \n",
    "where n is the number of polygon vertices. \n",
    "\n",
    "\"\"\"\n",
    "\n",
    "def polygarea(coords):\n",
    "    component=(coords[1][0]*coords[0][len(coords[0])-1])-(coords[0][0]*coords[1][len(coords[0])-1])\n",
    "# For this problem, we have already given the formula for computing the area of a certain polygon based on the Green's theorem, \n",
    "# which is the area=(1/2) times the absolute value of the sum of XkY(k+1)-X(k+1)Yk. What I need to do is create a for loop that contains the formula \n",
    "# to compute the area of any polygens. The input value here is still the same as the previous question and also in order to create\n",
    "# the for loop, we need to firstly make a connection with the first and last point. By observing the formula XkY(k+1)-X(k+1)Yk, \n",
    "# we can see that if connecting these two points, we should use the x coordinate of the last point times the y coordinate of the first point\n",
    "# minus the x coordinate of the first point times the y coordinate of the last point. This is exactly what the above code represents for\n",
    "# and then name the new variable to component. \n",
    "    for i in range ((len(coords[0])-1)):\n",
    "        component+=(coords[1][i+1]*coords[0][i]-coords[0][i+1]*coords[1][i])\n",
    "    component=(1/2)*abs(component)\n",
    "# After the first variable has created, we just need to generalize the function by using the for loop to calculate all the\n",
    "# remaining components which are XkY(k+1)-X(k+1)Yk. In this case, we have to calculate them by using the adjacent points' x and y \n",
    "# coordinates. Strictly follow the format of the formula XkY(k+1)-X(k+1)Yk, we can compute the variables one by one and \n",
    "# add the result to the original variable named component. For instance, if we input three points, then x should be 0,1,2 in this case, \n",
    "# which means that the for loop will relate to the coordinates of the first and second points, second and third points.\n",
    "# Notice that there is no duplicate to the third and first points because we had already computed it before\n",
    "# the for loop and the for loop can not compute this for us. After the sum of XkY(k+1)-X(k+1)Yk has been computed, we have to calculate the final result by using the abs\n",
    "# function to get the absolute value of the sum and then times one half to get the final result.\n",
    "    print(component)\n",
    "# Print out the final variable component, also the area of a polygon.\n",
    "          \n",
    "\n",
    "\n",
    "polygarea(([-2,2,2,-2],[-2,-2,2,2])) # A square with the side length of four.\n",
    " "
   ]
  },
  {
   "cell_type": "code",
   "execution_count": 26,
   "metadata": {
    "collapsed": false
   },
   "outputs": [
    {
     "name": "stdout",
     "output_type": "stream",
     "text": [
      "14.696938456699067\n"
     ]
    }
   ],
   "source": [
    "polygarea(([0,24**(1/2),0],[-3,0,3])) # An equilateral triangle with the side length of six."
   ]
  },
  {
   "cell_type": "code",
   "execution_count": 27,
   "metadata": {
    "collapsed": false
   },
   "outputs": [
    {
     "name": "stdout",
     "output_type": "stream",
     "text": [
      "554.06\n"
     ]
    }
   ],
   "source": [
    "polygarea(([2.3,4.9,-6,-23],[-7.8,-9,34,-2])) # An arbitrary polygon."
   ]
  },
  {
   "cell_type": "code",
   "execution_count": null,
   "metadata": {
    "collapsed": true
   },
   "outputs": [],
   "source": []
  }
 ],
 "metadata": {
  "kernelspec": {
   "display_name": "Python 3",
   "language": "python",
   "name": "python3"
  },
  "language_info": {
   "codemirror_mode": {
    "name": "ipython",
    "version": 3
   },
   "file_extension": ".py",
   "mimetype": "text/x-python",
   "name": "python",
   "nbconvert_exporter": "python",
   "pygments_lexer": "ipython3",
   "version": "3.4.3"
  }
 },
 "nbformat": 4,
 "nbformat_minor": 0
}
